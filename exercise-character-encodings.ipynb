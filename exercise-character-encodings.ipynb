{
 "cells": [
  {
   "cell_type": "markdown",
   "id": "d0d24c1c",
   "metadata": {
    "papermill": {
     "duration": 0.010823,
     "end_time": "2022-01-14T17:58:36.689698",
     "exception": false,
     "start_time": "2022-01-14T17:58:36.678875",
     "status": "completed"
    },
    "tags": []
   },
   "source": [
    "**This notebook is an exercise in the [Data Cleaning](https://www.kaggle.com/learn/data-cleaning) course.  You can reference the tutorial at [this link](https://www.kaggle.com/alexisbcook/character-encodings).**\n",
    "\n",
    "---\n"
   ]
  },
  {
   "cell_type": "markdown",
   "id": "b54e9661",
   "metadata": {
    "papermill": {
     "duration": 0.00931,
     "end_time": "2022-01-14T17:58:36.708787",
     "exception": false,
     "start_time": "2022-01-14T17:58:36.699477",
     "status": "completed"
    },
    "tags": []
   },
   "source": [
    "In this exercise, you'll apply what you learned in the **Character encodings** tutorial.\n",
    "\n",
    "# Setup\n",
    "\n",
    "The questions below will give you feedback on your work. Run the following cell to set up the feedback system."
   ]
  },
  {
   "cell_type": "code",
   "execution_count": 1,
   "id": "442f1397",
   "metadata": {
    "execution": {
     "iopub.execute_input": "2022-01-14T17:58:36.733154Z",
     "iopub.status.busy": "2022-01-14T17:58:36.731538Z",
     "iopub.status.idle": "2022-01-14T17:58:36.802462Z",
     "shell.execute_reply": "2022-01-14T17:58:36.802938Z",
     "shell.execute_reply.started": "2022-01-14T17:40:02.792248Z"
    },
    "papermill": {
     "duration": 0.084964,
     "end_time": "2022-01-14T17:58:36.803206",
     "exception": false,
     "start_time": "2022-01-14T17:58:36.718242",
     "status": "completed"
    },
    "tags": []
   },
   "outputs": [
    {
     "name": "stdout",
     "output_type": "stream",
     "text": [
      "Setup Complete\n"
     ]
    }
   ],
   "source": [
    "from learntools.core import binder\n",
    "binder.bind(globals())\n",
    "from learntools.data_cleaning.ex4 import *\n",
    "print(\"Setup Complete\")"
   ]
  },
  {
   "cell_type": "markdown",
   "id": "3a5bada3",
   "metadata": {
    "papermill": {
     "duration": 0.009973,
     "end_time": "2022-01-14T17:58:36.823977",
     "exception": false,
     "start_time": "2022-01-14T17:58:36.814004",
     "status": "completed"
    },
    "tags": []
   },
   "source": [
    "# Get our environment set up\n",
    "\n",
    "The first thing we'll need to do is load in the libraries we'll be using."
   ]
  },
  {
   "cell_type": "code",
   "execution_count": 2,
   "id": "4c0f091e",
   "metadata": {
    "execution": {
     "iopub.execute_input": "2022-01-14T17:58:36.847543Z",
     "iopub.status.busy": "2022-01-14T17:58:36.846648Z",
     "iopub.status.idle": "2022-01-14T17:58:36.850527Z",
     "shell.execute_reply": "2022-01-14T17:58:36.850981Z",
     "shell.execute_reply.started": "2022-01-14T17:40:10.865055Z"
    },
    "papermill": {
     "duration": 0.017078,
     "end_time": "2022-01-14T17:58:36.851146",
     "exception": false,
     "start_time": "2022-01-14T17:58:36.834068",
     "status": "completed"
    },
    "tags": []
   },
   "outputs": [],
   "source": [
    "# modules we'll use\n",
    "import pandas as pd\n",
    "import numpy as np\n",
    "\n",
    "# helpful character encoding module\n",
    "import chardet\n",
    "\n",
    "# set seed for reproducibility\n",
    "np.random.seed(0)"
   ]
  },
  {
   "cell_type": "markdown",
   "id": "3094c99b",
   "metadata": {
    "papermill": {
     "duration": 0.010063,
     "end_time": "2022-01-14T17:58:36.871088",
     "exception": false,
     "start_time": "2022-01-14T17:58:36.861025",
     "status": "completed"
    },
    "tags": []
   },
   "source": [
    "# 1) What are encodings?\n",
    "\n",
    "You're working with a dataset composed of bytes.  Run the code cell below to print a sample entry."
   ]
  },
  {
   "cell_type": "code",
   "execution_count": 3,
   "id": "9d3cf5ac",
   "metadata": {
    "execution": {
     "iopub.execute_input": "2022-01-14T17:58:36.894904Z",
     "iopub.status.busy": "2022-01-14T17:58:36.893999Z",
     "iopub.status.idle": "2022-01-14T17:58:36.899193Z",
     "shell.execute_reply": "2022-01-14T17:58:36.899637Z",
     "shell.execute_reply.started": "2022-01-14T17:40:25.336989Z"
    },
    "papermill": {
     "duration": 0.018509,
     "end_time": "2022-01-14T17:58:36.899791",
     "exception": false,
     "start_time": "2022-01-14T17:58:36.881282",
     "status": "completed"
    },
    "tags": []
   },
   "outputs": [
    {
     "name": "stdout",
     "output_type": "stream",
     "text": [
      "b'\\xa7A\\xa6n'\n",
      "data type: <class 'bytes'>\n"
     ]
    }
   ],
   "source": [
    "sample_entry = b'\\xa7A\\xa6n'\n",
    "print(sample_entry)\n",
    "print('data type:', type(sample_entry))"
   ]
  },
  {
   "cell_type": "markdown",
   "id": "9298ac6e",
   "metadata": {
    "papermill": {
     "duration": 0.010411,
     "end_time": "2022-01-14T17:58:36.920315",
     "exception": false,
     "start_time": "2022-01-14T17:58:36.909904",
     "status": "completed"
    },
    "tags": []
   },
   "source": [
    "You notice that it doesn't use the standard UTF-8 encoding. \n",
    "\n",
    "Use the next code cell to create a variable `new_entry` that changes the encoding from `\"big5-tw\"` to `\"utf-8\"`.  `new_entry` should have the bytes datatype."
   ]
  },
  {
   "cell_type": "code",
   "execution_count": 4,
   "id": "ff9869f0",
   "metadata": {
    "execution": {
     "iopub.execute_input": "2022-01-14T17:58:36.945123Z",
     "iopub.status.busy": "2022-01-14T17:58:36.944541Z",
     "iopub.status.idle": "2022-01-14T17:58:36.951605Z",
     "shell.execute_reply": "2022-01-14T17:58:36.951987Z",
     "shell.execute_reply.started": "2022-01-14T17:49:45.879417Z"
    },
    "papermill": {
     "duration": 0.021026,
     "end_time": "2022-01-14T17:58:36.952144",
     "exception": false,
     "start_time": "2022-01-14T17:58:36.931118",
     "status": "completed"
    },
    "tags": []
   },
   "outputs": [
    {
     "data": {
      "application/javascript": [
       "parent.postMessage({\"jupyterEvent\": \"custom.exercise_interaction\", \"data\": {\"outcomeType\": 1, \"valueTowardsCompletion\": 0.3333333333333333, \"interactionType\": 1, \"questionType\": 1, \"questionId\": \"1_EncodingsIntro\", \"learnToolsVersion\": \"0.3.4\", \"failureMessage\": \"\", \"exceptionClass\": \"\", \"trace\": \"\"}}, \"*\")"
      ],
      "text/plain": [
       "<IPython.core.display.Javascript object>"
      ]
     },
     "metadata": {},
     "output_type": "display_data"
    },
    {
     "data": {
      "text/markdown": [
       "<span style=\"color:#33cc33\">Correct</span>"
      ],
      "text/plain": [
       "Correct"
      ]
     },
     "metadata": {},
     "output_type": "display_data"
    }
   ],
   "source": [
    "before = b'\\xa7A\\xa6n'.decode(\"big5-tw\")\n",
    "new_entry=before.encode(\"utf-8\")\n",
    "\n",
    "# Check your answer\n",
    "q1.check()"
   ]
  },
  {
   "cell_type": "code",
   "execution_count": 5,
   "id": "e411bf90",
   "metadata": {
    "execution": {
     "iopub.execute_input": "2022-01-14T17:58:36.977762Z",
     "iopub.status.busy": "2022-01-14T17:58:36.977154Z",
     "iopub.status.idle": "2022-01-14T17:58:36.980194Z",
     "shell.execute_reply": "2022-01-14T17:58:36.980621Z",
     "shell.execute_reply.started": "2022-01-14T17:50:04.537206Z"
    },
    "papermill": {
     "duration": 0.01743,
     "end_time": "2022-01-14T17:58:36.980812",
     "exception": false,
     "start_time": "2022-01-14T17:58:36.963382",
     "status": "completed"
    },
    "tags": []
   },
   "outputs": [],
   "source": [
    "# Lines below will give you a hint or solution code\n",
    "#q1.hint()\n",
    "#q1.solution()"
   ]
  },
  {
   "cell_type": "markdown",
   "id": "629185b0",
   "metadata": {
    "papermill": {
     "duration": 0.011065,
     "end_time": "2022-01-14T17:58:37.003204",
     "exception": false,
     "start_time": "2022-01-14T17:58:36.992139",
     "status": "completed"
    },
    "tags": []
   },
   "source": [
    "# 2) Reading in files with encoding problems\n",
    "\n",
    "Use the code cell below to read in this file at path `\"../input/fatal-police-shootings-in-the-us/PoliceKillingsUS.csv\"`.  \n",
    "\n",
    "Figure out what the correct encoding should be and read in the file to a DataFrame `police_killings`."
   ]
  },
  {
   "cell_type": "code",
   "execution_count": 6,
   "id": "193906f6",
   "metadata": {
    "execution": {
     "iopub.execute_input": "2022-01-14T17:58:37.030321Z",
     "iopub.status.busy": "2022-01-14T17:58:37.029396Z",
     "iopub.status.idle": "2022-01-14T17:58:38.965670Z",
     "shell.execute_reply": "2022-01-14T17:58:38.965020Z",
     "shell.execute_reply.started": "2022-01-14T17:56:00.256619Z"
    },
    "papermill": {
     "duration": 1.951495,
     "end_time": "2022-01-14T17:58:38.965875",
     "exception": false,
     "start_time": "2022-01-14T17:58:37.014380",
     "status": "completed"
    },
    "tags": []
   },
   "outputs": [
    {
     "name": "stdout",
     "output_type": "stream",
     "text": [
      "{'encoding': 'Windows-1252', 'confidence': 0.73, 'language': ''}\n"
     ]
    },
    {
     "data": {
      "application/javascript": [
       "parent.postMessage({\"jupyterEvent\": \"custom.exercise_interaction\", \"data\": {\"outcomeType\": 1, \"valueTowardsCompletion\": 0.3333333333333333, \"interactionType\": 1, \"questionType\": 1, \"questionId\": \"2_ReadIn\", \"learnToolsVersion\": \"0.3.4\", \"failureMessage\": \"\", \"exceptionClass\": \"\", \"trace\": \"\"}}, \"*\")"
      ],
      "text/plain": [
       "<IPython.core.display.Javascript object>"
      ]
     },
     "metadata": {},
     "output_type": "display_data"
    },
    {
     "data": {
      "text/markdown": [
       "<span style=\"color:#33cc33\">Correct</span>"
      ],
      "text/plain": [
       "Correct"
      ]
     },
     "metadata": {},
     "output_type": "display_data"
    }
   ],
   "source": [
    "# TODO: Load in the DataFrame correctly.\n",
    "with open(\"../input/fatal-police-shootings-in-the-us/PoliceKillingsUS.csv\", 'rb') as rawdata:\n",
    "    result = chardet.detect(rawdata.read(10000000))\n",
    "print(result)\n",
    "police_killings = pd.read_csv(\"../input/fatal-police-shootings-in-the-us/PoliceKillingsUS.csv\",encoding=\"Windows-1252\")\n",
    "\n",
    "# Check your answer\n",
    "q2.check()"
   ]
  },
  {
   "cell_type": "markdown",
   "id": "935dcc03",
   "metadata": {
    "papermill": {
     "duration": 0.012514,
     "end_time": "2022-01-14T17:58:38.992199",
     "exception": false,
     "start_time": "2022-01-14T17:58:38.979685",
     "status": "completed"
    },
    "tags": []
   },
   "source": [
    "Feel free to use any additional code cells for supplemental work.  To get credit for finishing this question, you'll need to run `q2.check()` and get a result of **Correct**."
   ]
  },
  {
   "cell_type": "code",
   "execution_count": 7,
   "id": "42a97412",
   "metadata": {
    "execution": {
     "iopub.execute_input": "2022-01-14T17:58:39.022356Z",
     "iopub.status.busy": "2022-01-14T17:58:39.021494Z",
     "iopub.status.idle": "2022-01-14T17:58:39.024855Z",
     "shell.execute_reply": "2022-01-14T17:58:39.025360Z"
    },
    "papermill": {
     "duration": 0.020273,
     "end_time": "2022-01-14T17:58:39.025540",
     "exception": false,
     "start_time": "2022-01-14T17:58:39.005267",
     "status": "completed"
    },
    "tags": []
   },
   "outputs": [],
   "source": [
    "# (Optional) Use this code cell for any additional work."
   ]
  },
  {
   "cell_type": "code",
   "execution_count": 8,
   "id": "39067d01",
   "metadata": {
    "execution": {
     "iopub.execute_input": "2022-01-14T17:58:39.069531Z",
     "iopub.status.busy": "2022-01-14T17:58:39.068574Z",
     "iopub.status.idle": "2022-01-14T17:58:39.074472Z",
     "shell.execute_reply": "2022-01-14T17:58:39.075106Z"
    },
    "papermill": {
     "duration": 0.030979,
     "end_time": "2022-01-14T17:58:39.075345",
     "exception": false,
     "start_time": "2022-01-14T17:58:39.044366",
     "status": "completed"
    },
    "tags": []
   },
   "outputs": [],
   "source": [
    "# Lines below will give you a hint or solution code\n",
    "#q2.hint()\n",
    "#q2.solution()"
   ]
  },
  {
   "cell_type": "markdown",
   "id": "e663f352",
   "metadata": {
    "papermill": {
     "duration": 0.018889,
     "end_time": "2022-01-14T17:58:39.112071",
     "exception": false,
     "start_time": "2022-01-14T17:58:39.093182",
     "status": "completed"
    },
    "tags": []
   },
   "source": [
    "# 3) Saving your files with UTF-8 encoding\n",
    "\n",
    "Save a version of the police killings dataset to CSV with UTF-8 encoding.  Your answer will be marked correct after saving this file.  \n",
    "\n",
    "Note: When using the `to_csv()` method, supply only the name of the file (e.g., `\"my_file.csv\"`).  This saves the file at the filepath `\"/kaggle/working/my_file.csv\"`."
   ]
  },
  {
   "cell_type": "code",
   "execution_count": 9,
   "id": "7fb0a394",
   "metadata": {
    "execution": {
     "iopub.execute_input": "2022-01-14T17:58:39.154152Z",
     "iopub.status.busy": "2022-01-14T17:58:39.153230Z",
     "iopub.status.idle": "2022-01-14T17:58:39.181902Z",
     "shell.execute_reply": "2022-01-14T17:58:39.182460Z",
     "shell.execute_reply.started": "2022-01-14T17:57:50.727191Z"
    },
    "papermill": {
     "duration": 0.053139,
     "end_time": "2022-01-14T17:58:39.182645",
     "exception": false,
     "start_time": "2022-01-14T17:58:39.129506",
     "status": "completed"
    },
    "tags": []
   },
   "outputs": [
    {
     "data": {
      "application/javascript": [
       "parent.postMessage({\"jupyterEvent\": \"custom.exercise_interaction\", \"data\": {\"outcomeType\": 1, \"valueTowardsCompletion\": 0.3333333333333333, \"interactionType\": 1, \"questionType\": 2, \"questionId\": \"3_SaveCSV\", \"learnToolsVersion\": \"0.3.4\", \"failureMessage\": \"\", \"exceptionClass\": \"\", \"trace\": \"\"}}, \"*\")"
      ],
      "text/plain": [
       "<IPython.core.display.Javascript object>"
      ]
     },
     "metadata": {},
     "output_type": "display_data"
    },
    {
     "data": {
      "text/markdown": [
       "<span style=\"color:#33cc33\">Correct</span>"
      ],
      "text/plain": [
       "Correct"
      ]
     },
     "metadata": {},
     "output_type": "display_data"
    }
   ],
   "source": [
    "# TODO: Save the police killings dataset to CSV\n",
    "police_killings.to_csv(\"/kaggle/working/my_file.csv\")\n",
    "\n",
    "# Check your answer\n",
    "q3.check()"
   ]
  },
  {
   "cell_type": "code",
   "execution_count": 10,
   "id": "7ed1de27",
   "metadata": {
    "execution": {
     "iopub.execute_input": "2022-01-14T17:58:39.215283Z",
     "iopub.status.busy": "2022-01-14T17:58:39.214318Z",
     "iopub.status.idle": "2022-01-14T17:58:39.217469Z",
     "shell.execute_reply": "2022-01-14T17:58:39.218011Z"
    },
    "papermill": {
     "duration": 0.020651,
     "end_time": "2022-01-14T17:58:39.218171",
     "exception": false,
     "start_time": "2022-01-14T17:58:39.197520",
     "status": "completed"
    },
    "tags": []
   },
   "outputs": [],
   "source": [
    "# Lines below will give you a hint or solution code\n",
    "#q3.hint()\n",
    "#q3.solution()"
   ]
  },
  {
   "cell_type": "markdown",
   "id": "4cc2d68b",
   "metadata": {
    "papermill": {
     "duration": 0.012751,
     "end_time": "2022-01-14T17:58:39.244185",
     "exception": false,
     "start_time": "2022-01-14T17:58:39.231434",
     "status": "completed"
    },
    "tags": []
   },
   "source": [
    "# (Optional) More practice\n",
    "\n",
    "Check out [this dataset of files in different character encodings](https://www.kaggle.com/rtatman/character-encoding-examples). Can you read in all the files with their original encodings and them save them out as UTF-8 files?\n",
    "\n",
    "If you have a file that's in UTF-8 but has just a couple of weird-looking characters in it, you can try out the [ftfy module](https://ftfy.readthedocs.io/en/latest/#) and see if it helps. \n",
    "\n",
    "# Keep going\n",
    "\n",
    "In the final lesson, learn how to [**clean up inconsistent text entries**](https://www.kaggle.com/alexisbcook/inconsistent-data-entry) in your dataset."
   ]
  },
  {
   "cell_type": "markdown",
   "id": "0dd7c718",
   "metadata": {
    "papermill": {
     "duration": 0.012888,
     "end_time": "2022-01-14T17:58:39.270012",
     "exception": false,
     "start_time": "2022-01-14T17:58:39.257124",
     "status": "completed"
    },
    "tags": []
   },
   "source": [
    "---\n",
    "\n",
    "\n",
    "\n",
    "\n",
    "*Have questions or comments? Visit the [course discussion forum](https://www.kaggle.com/learn/data-cleaning/discussion) to chat with other learners.*"
   ]
  }
 ],
 "metadata": {
  "kernelspec": {
   "display_name": "Python 3",
   "language": "python",
   "name": "python3"
  },
  "language_info": {
   "codemirror_mode": {
    "name": "ipython",
    "version": 3
   },
   "file_extension": ".py",
   "mimetype": "text/x-python",
   "name": "python",
   "nbconvert_exporter": "python",
   "pygments_lexer": "ipython3",
   "version": "3.7.12"
  },
  "papermill": {
   "default_parameters": {},
   "duration": 11.352597,
   "end_time": "2022-01-14T17:58:39.894953",
   "environment_variables": {},
   "exception": null,
   "input_path": "__notebook__.ipynb",
   "output_path": "__notebook__.ipynb",
   "parameters": {},
   "start_time": "2022-01-14T17:58:28.542356",
   "version": "2.3.3"
  }
 },
 "nbformat": 4,
 "nbformat_minor": 5
}
