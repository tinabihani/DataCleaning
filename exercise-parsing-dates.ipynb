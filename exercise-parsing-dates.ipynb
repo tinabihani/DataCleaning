{
 "cells": [
  {
   "cell_type": "markdown",
   "id": "c50635d6",
   "metadata": {
    "papermill": {
     "duration": 0.022654,
     "end_time": "2022-01-14T17:23:58.221284",
     "exception": false,
     "start_time": "2022-01-14T17:23:58.198630",
     "status": "completed"
    },
    "tags": []
   },
   "source": [
    "**This notebook is an exercise in the [Data Cleaning](https://www.kaggle.com/learn/data-cleaning) course.  You can reference the tutorial at [this link](https://www.kaggle.com/alexisbcook/parsing-dates).**\n",
    "\n",
    "---\n"
   ]
  },
  {
   "cell_type": "markdown",
   "id": "7be2ace8",
   "metadata": {
    "papermill": {
     "duration": 0.021078,
     "end_time": "2022-01-14T17:23:58.265745",
     "exception": false,
     "start_time": "2022-01-14T17:23:58.244667",
     "status": "completed"
    },
    "tags": []
   },
   "source": [
    "In this exercise, you'll apply what you learned in the **Parsing dates** tutorial.\n",
    "\n",
    "# Setup\n",
    "\n",
    "The questions below will give you feedback on your work. Run the following cell to set up the feedback system."
   ]
  },
  {
   "cell_type": "code",
   "execution_count": 1,
   "id": "66afe4e3",
   "metadata": {
    "execution": {
     "iopub.execute_input": "2022-01-14T17:23:58.318823Z",
     "iopub.status.busy": "2022-01-14T17:23:58.318241Z",
     "iopub.status.idle": "2022-01-14T17:23:59.488489Z",
     "shell.execute_reply": "2022-01-14T17:23:59.488974Z",
     "shell.execute_reply.started": "2022-01-14T17:23:21.138385Z"
    },
    "papermill": {
     "duration": 1.201894,
     "end_time": "2022-01-14T17:23:59.489253",
     "exception": false,
     "start_time": "2022-01-14T17:23:58.287359",
     "status": "completed"
    },
    "tags": []
   },
   "outputs": [
    {
     "name": "stdout",
     "output_type": "stream",
     "text": [
      "Setup Complete\n"
     ]
    }
   ],
   "source": [
    "from learntools.core import binder\n",
    "binder.bind(globals())\n",
    "from learntools.data_cleaning.ex3 import *\n",
    "print(\"Setup Complete\")"
   ]
  },
  {
   "cell_type": "markdown",
   "id": "f86dfd93",
   "metadata": {
    "papermill": {
     "duration": 0.022075,
     "end_time": "2022-01-14T17:23:59.533867",
     "exception": false,
     "start_time": "2022-01-14T17:23:59.511792",
     "status": "completed"
    },
    "tags": []
   },
   "source": [
    "# Get our environment set up\n",
    "\n",
    "The first thing we'll need to do is load in the libraries and dataset we'll be using. We'll be working with a dataset containing information on earthquakes that occured between 1965 and 2016."
   ]
  },
  {
   "cell_type": "code",
   "execution_count": 2,
   "id": "c8704b3e",
   "metadata": {
    "execution": {
     "iopub.execute_input": "2022-01-14T17:23:59.583256Z",
     "iopub.status.busy": "2022-01-14T17:23:59.582615Z",
     "iopub.status.idle": "2022-01-14T17:23:59.664544Z",
     "shell.execute_reply": "2022-01-14T17:23:59.663977Z",
     "shell.execute_reply.started": "2022-01-14T17:23:21.146184Z"
    },
    "papermill": {
     "duration": 0.108796,
     "end_time": "2022-01-14T17:23:59.664689",
     "exception": false,
     "start_time": "2022-01-14T17:23:59.555893",
     "status": "completed"
    },
    "tags": []
   },
   "outputs": [],
   "source": [
    "# modules we'll use\n",
    "import pandas as pd\n",
    "import numpy as np\n",
    "import seaborn as sns\n",
    "import datetime\n",
    "\n",
    "# read in our data\n",
    "earthquakes = pd.read_csv(\"../input/earthquake-database/database.csv\")\n",
    "\n",
    "# set seed for reproducibility\n",
    "np.random.seed(0)"
   ]
  },
  {
   "cell_type": "markdown",
   "id": "42bec5c9",
   "metadata": {
    "papermill": {
     "duration": 0.021666,
     "end_time": "2022-01-14T17:23:59.708711",
     "exception": false,
     "start_time": "2022-01-14T17:23:59.687045",
     "status": "completed"
    },
    "tags": []
   },
   "source": [
    "# 1) Check the data type of our date column\n",
    "\n",
    "You'll be working with the \"Date\" column from the `earthquakes` dataframe.  Investigate this column now: does it look like it contains dates?  What is the dtype of the column?"
   ]
  },
  {
   "cell_type": "code",
   "execution_count": 3,
   "id": "452d10cf",
   "metadata": {
    "execution": {
     "iopub.execute_input": "2022-01-14T17:23:59.760167Z",
     "iopub.status.busy": "2022-01-14T17:23:59.759497Z",
     "iopub.status.idle": "2022-01-14T17:23:59.762353Z",
     "shell.execute_reply": "2022-01-14T17:23:59.762819Z",
     "shell.execute_reply.started": "2022-01-14T17:23:21.243258Z"
    },
    "papermill": {
     "duration": 0.032351,
     "end_time": "2022-01-14T17:23:59.762999",
     "exception": false,
     "start_time": "2022-01-14T17:23:59.730648",
     "status": "completed"
    },
    "tags": []
   },
   "outputs": [
    {
     "data": {
      "text/plain": [
       "dtype('O')"
      ]
     },
     "execution_count": 3,
     "metadata": {},
     "output_type": "execute_result"
    }
   ],
   "source": [
    "# TODO: Your code here!\n",
    "earthquakes['Date'].dtype"
   ]
  },
  {
   "cell_type": "markdown",
   "id": "33fdd995",
   "metadata": {
    "papermill": {
     "duration": 0.022118,
     "end_time": "2022-01-14T17:23:59.807519",
     "exception": false,
     "start_time": "2022-01-14T17:23:59.785401",
     "status": "completed"
    },
    "tags": []
   },
   "source": [
    "Once you have answered the question above, run the code cell below to get credit for your work."
   ]
  },
  {
   "cell_type": "code",
   "execution_count": 4,
   "id": "f987e0a8",
   "metadata": {
    "execution": {
     "iopub.execute_input": "2022-01-14T17:23:59.858679Z",
     "iopub.status.busy": "2022-01-14T17:23:59.858070Z",
     "iopub.status.idle": "2022-01-14T17:23:59.862448Z",
     "shell.execute_reply": "2022-01-14T17:23:59.863004Z",
     "shell.execute_reply.started": "2022-01-14T17:23:21.253146Z"
    },
    "papermill": {
     "duration": 0.031675,
     "end_time": "2022-01-14T17:23:59.863163",
     "exception": false,
     "start_time": "2022-01-14T17:23:59.831488",
     "status": "completed"
    },
    "tags": []
   },
   "outputs": [
    {
     "data": {
      "application/javascript": [
       "parent.postMessage({\"jupyterEvent\": \"custom.exercise_interaction\", \"data\": {\"outcomeType\": 1, \"valueTowardsCompletion\": 0.25, \"interactionType\": 1, \"questionType\": 4, \"questionId\": \"1_CheckDtype\", \"learnToolsVersion\": \"0.3.4\", \"failureMessage\": \"\", \"exceptionClass\": \"\", \"trace\": \"\"}}, \"*\")"
      ],
      "text/plain": [
       "<IPython.core.display.Javascript object>"
      ]
     },
     "metadata": {},
     "output_type": "display_data"
    },
    {
     "data": {
      "text/markdown": [
       "<span style=\"color:#33cc33\">Correct:</span> \n",
       "\n",
       "The \"Date\" column in the `earthquakes` DataFrame does have dates.  The dtype is \"object\"."
      ],
      "text/plain": [
       "Correct: \n",
       "\n",
       "The \"Date\" column in the `earthquakes` DataFrame does have dates.  The dtype is \"object\"."
      ]
     },
     "metadata": {},
     "output_type": "display_data"
    }
   ],
   "source": [
    "# Check your answer (Run this code cell to receive credit!)\n",
    "q1.check()"
   ]
  },
  {
   "cell_type": "code",
   "execution_count": 5,
   "id": "bd85e33c",
   "metadata": {
    "execution": {
     "iopub.execute_input": "2022-01-14T17:23:59.913664Z",
     "iopub.status.busy": "2022-01-14T17:23:59.913080Z",
     "iopub.status.idle": "2022-01-14T17:23:59.915872Z",
     "shell.execute_reply": "2022-01-14T17:23:59.916370Z",
     "shell.execute_reply.started": "2022-01-14T17:23:21.265627Z"
    },
    "papermill": {
     "duration": 0.030136,
     "end_time": "2022-01-14T17:23:59.916532",
     "exception": false,
     "start_time": "2022-01-14T17:23:59.886396",
     "status": "completed"
    },
    "tags": []
   },
   "outputs": [],
   "source": [
    "# Line below will give you a hint\n",
    "#q1.hint()"
   ]
  },
  {
   "cell_type": "markdown",
   "id": "78f155b9",
   "metadata": {
    "papermill": {
     "duration": 0.02308,
     "end_time": "2022-01-14T17:23:59.963138",
     "exception": false,
     "start_time": "2022-01-14T17:23:59.940058",
     "status": "completed"
    },
    "tags": []
   },
   "source": [
    "# 2) Convert our date columns to datetime\n",
    "\n",
    "Most of the entries in the \"Date\" column follow the same format: \"month/day/four-digit year\".  However, the entry at index 3378 follows a completely different pattern.  Run the code cell below to see this."
   ]
  },
  {
   "cell_type": "code",
   "execution_count": 6,
   "id": "8d415e1a",
   "metadata": {
    "execution": {
     "iopub.execute_input": "2022-01-14T17:24:00.017803Z",
     "iopub.status.busy": "2022-01-14T17:24:00.017162Z",
     "iopub.status.idle": "2022-01-14T17:24:00.043148Z",
     "shell.execute_reply": "2022-01-14T17:24:00.043635Z",
     "shell.execute_reply.started": "2022-01-14T17:23:21.271995Z"
    },
    "papermill": {
     "duration": 0.056957,
     "end_time": "2022-01-14T17:24:00.043793",
     "exception": false,
     "start_time": "2022-01-14T17:23:59.986836",
     "status": "completed"
    },
    "tags": []
   },
   "outputs": [
    {
     "data": {
      "text/html": [
       "<div>\n",
       "<style scoped>\n",
       "    .dataframe tbody tr th:only-of-type {\n",
       "        vertical-align: middle;\n",
       "    }\n",
       "\n",
       "    .dataframe tbody tr th {\n",
       "        vertical-align: top;\n",
       "    }\n",
       "\n",
       "    .dataframe thead th {\n",
       "        text-align: right;\n",
       "    }\n",
       "</style>\n",
       "<table border=\"1\" class=\"dataframe\">\n",
       "  <thead>\n",
       "    <tr style=\"text-align: right;\">\n",
       "      <th></th>\n",
       "      <th>Date</th>\n",
       "      <th>Time</th>\n",
       "      <th>Latitude</th>\n",
       "      <th>Longitude</th>\n",
       "      <th>Type</th>\n",
       "      <th>Depth</th>\n",
       "      <th>Depth Error</th>\n",
       "      <th>Depth Seismic Stations</th>\n",
       "      <th>Magnitude</th>\n",
       "      <th>Magnitude Type</th>\n",
       "      <th>...</th>\n",
       "      <th>Magnitude Seismic Stations</th>\n",
       "      <th>Azimuthal Gap</th>\n",
       "      <th>Horizontal Distance</th>\n",
       "      <th>Horizontal Error</th>\n",
       "      <th>Root Mean Square</th>\n",
       "      <th>ID</th>\n",
       "      <th>Source</th>\n",
       "      <th>Location Source</th>\n",
       "      <th>Magnitude Source</th>\n",
       "      <th>Status</th>\n",
       "    </tr>\n",
       "  </thead>\n",
       "  <tbody>\n",
       "    <tr>\n",
       "      <th>3378</th>\n",
       "      <td>1975-02-23T02:58:41.000Z</td>\n",
       "      <td>1975-02-23T02:58:41.000Z</td>\n",
       "      <td>8.017</td>\n",
       "      <td>124.075</td>\n",
       "      <td>Earthquake</td>\n",
       "      <td>623.0</td>\n",
       "      <td>NaN</td>\n",
       "      <td>NaN</td>\n",
       "      <td>5.6</td>\n",
       "      <td>MB</td>\n",
       "      <td>...</td>\n",
       "      <td>NaN</td>\n",
       "      <td>NaN</td>\n",
       "      <td>NaN</td>\n",
       "      <td>NaN</td>\n",
       "      <td>NaN</td>\n",
       "      <td>USP0000A09</td>\n",
       "      <td>US</td>\n",
       "      <td>US</td>\n",
       "      <td>US</td>\n",
       "      <td>Reviewed</td>\n",
       "    </tr>\n",
       "    <tr>\n",
       "      <th>3379</th>\n",
       "      <td>02/23/1975</td>\n",
       "      <td>03:53:36</td>\n",
       "      <td>-21.727</td>\n",
       "      <td>-71.356</td>\n",
       "      <td>Earthquake</td>\n",
       "      <td>33.0</td>\n",
       "      <td>NaN</td>\n",
       "      <td>NaN</td>\n",
       "      <td>5.6</td>\n",
       "      <td>MB</td>\n",
       "      <td>...</td>\n",
       "      <td>NaN</td>\n",
       "      <td>NaN</td>\n",
       "      <td>NaN</td>\n",
       "      <td>NaN</td>\n",
       "      <td>NaN</td>\n",
       "      <td>USP0000A0A</td>\n",
       "      <td>US</td>\n",
       "      <td>US</td>\n",
       "      <td>US</td>\n",
       "      <td>Reviewed</td>\n",
       "    </tr>\n",
       "    <tr>\n",
       "      <th>3380</th>\n",
       "      <td>02/23/1975</td>\n",
       "      <td>07:34:11</td>\n",
       "      <td>-10.879</td>\n",
       "      <td>166.667</td>\n",
       "      <td>Earthquake</td>\n",
       "      <td>33.0</td>\n",
       "      <td>NaN</td>\n",
       "      <td>NaN</td>\n",
       "      <td>5.5</td>\n",
       "      <td>MS</td>\n",
       "      <td>...</td>\n",
       "      <td>NaN</td>\n",
       "      <td>NaN</td>\n",
       "      <td>NaN</td>\n",
       "      <td>NaN</td>\n",
       "      <td>NaN</td>\n",
       "      <td>USP0000A0C</td>\n",
       "      <td>US</td>\n",
       "      <td>US</td>\n",
       "      <td>US</td>\n",
       "      <td>Reviewed</td>\n",
       "    </tr>\n",
       "    <tr>\n",
       "      <th>3381</th>\n",
       "      <td>02/25/1975</td>\n",
       "      <td>05:20:05</td>\n",
       "      <td>-7.388</td>\n",
       "      <td>149.798</td>\n",
       "      <td>Earthquake</td>\n",
       "      <td>33.0</td>\n",
       "      <td>NaN</td>\n",
       "      <td>NaN</td>\n",
       "      <td>5.5</td>\n",
       "      <td>MB</td>\n",
       "      <td>...</td>\n",
       "      <td>NaN</td>\n",
       "      <td>NaN</td>\n",
       "      <td>NaN</td>\n",
       "      <td>NaN</td>\n",
       "      <td>NaN</td>\n",
       "      <td>USP0000A12</td>\n",
       "      <td>US</td>\n",
       "      <td>US</td>\n",
       "      <td>US</td>\n",
       "      <td>Reviewed</td>\n",
       "    </tr>\n",
       "    <tr>\n",
       "      <th>3382</th>\n",
       "      <td>02/26/1975</td>\n",
       "      <td>04:48:55</td>\n",
       "      <td>85.047</td>\n",
       "      <td>97.969</td>\n",
       "      <td>Earthquake</td>\n",
       "      <td>33.0</td>\n",
       "      <td>NaN</td>\n",
       "      <td>NaN</td>\n",
       "      <td>5.6</td>\n",
       "      <td>MS</td>\n",
       "      <td>...</td>\n",
       "      <td>NaN</td>\n",
       "      <td>NaN</td>\n",
       "      <td>NaN</td>\n",
       "      <td>NaN</td>\n",
       "      <td>NaN</td>\n",
       "      <td>USP0000A1H</td>\n",
       "      <td>US</td>\n",
       "      <td>US</td>\n",
       "      <td>US</td>\n",
       "      <td>Reviewed</td>\n",
       "    </tr>\n",
       "  </tbody>\n",
       "</table>\n",
       "<p>5 rows × 21 columns</p>\n",
       "</div>"
      ],
      "text/plain": [
       "                          Date                      Time  Latitude  Longitude  \\\n",
       "3378  1975-02-23T02:58:41.000Z  1975-02-23T02:58:41.000Z     8.017    124.075   \n",
       "3379                02/23/1975                  03:53:36   -21.727    -71.356   \n",
       "3380                02/23/1975                  07:34:11   -10.879    166.667   \n",
       "3381                02/25/1975                  05:20:05    -7.388    149.798   \n",
       "3382                02/26/1975                  04:48:55    85.047     97.969   \n",
       "\n",
       "            Type  Depth  Depth Error  Depth Seismic Stations  Magnitude  \\\n",
       "3378  Earthquake  623.0          NaN                     NaN        5.6   \n",
       "3379  Earthquake   33.0          NaN                     NaN        5.6   \n",
       "3380  Earthquake   33.0          NaN                     NaN        5.5   \n",
       "3381  Earthquake   33.0          NaN                     NaN        5.5   \n",
       "3382  Earthquake   33.0          NaN                     NaN        5.6   \n",
       "\n",
       "     Magnitude Type  ...  Magnitude Seismic Stations  Azimuthal Gap  \\\n",
       "3378             MB  ...                         NaN            NaN   \n",
       "3379             MB  ...                         NaN            NaN   \n",
       "3380             MS  ...                         NaN            NaN   \n",
       "3381             MB  ...                         NaN            NaN   \n",
       "3382             MS  ...                         NaN            NaN   \n",
       "\n",
       "      Horizontal Distance  Horizontal Error  Root Mean Square          ID  \\\n",
       "3378                  NaN               NaN               NaN  USP0000A09   \n",
       "3379                  NaN               NaN               NaN  USP0000A0A   \n",
       "3380                  NaN               NaN               NaN  USP0000A0C   \n",
       "3381                  NaN               NaN               NaN  USP0000A12   \n",
       "3382                  NaN               NaN               NaN  USP0000A1H   \n",
       "\n",
       "     Source Location Source Magnitude Source    Status  \n",
       "3378     US              US               US  Reviewed  \n",
       "3379     US              US               US  Reviewed  \n",
       "3380     US              US               US  Reviewed  \n",
       "3381     US              US               US  Reviewed  \n",
       "3382     US              US               US  Reviewed  \n",
       "\n",
       "[5 rows x 21 columns]"
      ]
     },
     "execution_count": 6,
     "metadata": {},
     "output_type": "execute_result"
    }
   ],
   "source": [
    "earthquakes[3378:3383]"
   ]
  },
  {
   "cell_type": "markdown",
   "id": "6c813fcd",
   "metadata": {
    "papermill": {
     "duration": 0.025349,
     "end_time": "2022-01-14T17:24:00.094555",
     "exception": false,
     "start_time": "2022-01-14T17:24:00.069206",
     "status": "completed"
    },
    "tags": []
   },
   "source": [
    "This does appear to be an issue with data entry: ideally, all entries in the column have the same format.  We can get an idea of how widespread this issue is by checking the length of each entry in the \"Date\" column."
   ]
  },
  {
   "cell_type": "markdown",
   "id": "3f68f751",
   "metadata": {
    "papermill": {
     "duration": 0.024166,
     "end_time": "2022-01-14T17:24:00.143183",
     "exception": false,
     "start_time": "2022-01-14T17:24:00.119017",
     "status": "completed"
    },
    "tags": []
   },
   "source": [
    "Looks like there are two more rows that has a date in a different format.  Run the code cell below to obtain the indices corresponding to those rows and print the data."
   ]
  },
  {
   "cell_type": "code",
   "execution_count": 7,
   "id": "12a96f96",
   "metadata": {
    "execution": {
     "iopub.execute_input": "2022-01-14T17:24:00.217460Z",
     "iopub.status.busy": "2022-01-14T17:24:00.213205Z",
     "iopub.status.idle": "2022-01-14T17:24:00.220859Z",
     "shell.execute_reply": "2022-01-14T17:24:00.220281Z",
     "shell.execute_reply.started": "2022-01-14T17:23:21.306259Z"
    },
    "papermill": {
     "duration": 0.053381,
     "end_time": "2022-01-14T17:24:00.221007",
     "exception": false,
     "start_time": "2022-01-14T17:24:00.167626",
     "status": "completed"
    },
    "tags": []
   },
   "outputs": [
    {
     "data": {
      "text/plain": [
       "10    23409\n",
       "24        3\n",
       "Name: Date, dtype: int64"
      ]
     },
     "execution_count": 7,
     "metadata": {},
     "output_type": "execute_result"
    }
   ],
   "source": [
    "date_lengths = earthquakes.Date.str.len()\n",
    "date_lengths.value_counts()"
   ]
  },
  {
   "cell_type": "code",
   "execution_count": 8,
   "id": "45aabd73",
   "metadata": {
    "execution": {
     "iopub.execute_input": "2022-01-14T17:24:00.275291Z",
     "iopub.status.busy": "2022-01-14T17:24:00.274438Z",
     "iopub.status.idle": "2022-01-14T17:24:00.301390Z",
     "shell.execute_reply": "2022-01-14T17:24:00.300647Z",
     "shell.execute_reply.started": "2022-01-14T17:23:21.338052Z"
    },
    "papermill": {
     "duration": 0.055883,
     "end_time": "2022-01-14T17:24:00.301576",
     "exception": false,
     "start_time": "2022-01-14T17:24:00.245693",
     "status": "completed"
    },
    "tags": []
   },
   "outputs": [
    {
     "name": "stdout",
     "output_type": "stream",
     "text": [
      "Indices with corrupted data: [ 3378  7512 20650]\n"
     ]
    },
    {
     "data": {
      "text/html": [
       "<div>\n",
       "<style scoped>\n",
       "    .dataframe tbody tr th:only-of-type {\n",
       "        vertical-align: middle;\n",
       "    }\n",
       "\n",
       "    .dataframe tbody tr th {\n",
       "        vertical-align: top;\n",
       "    }\n",
       "\n",
       "    .dataframe thead th {\n",
       "        text-align: right;\n",
       "    }\n",
       "</style>\n",
       "<table border=\"1\" class=\"dataframe\">\n",
       "  <thead>\n",
       "    <tr style=\"text-align: right;\">\n",
       "      <th></th>\n",
       "      <th>Date</th>\n",
       "      <th>Time</th>\n",
       "      <th>Latitude</th>\n",
       "      <th>Longitude</th>\n",
       "      <th>Type</th>\n",
       "      <th>Depth</th>\n",
       "      <th>Depth Error</th>\n",
       "      <th>Depth Seismic Stations</th>\n",
       "      <th>Magnitude</th>\n",
       "      <th>Magnitude Type</th>\n",
       "      <th>...</th>\n",
       "      <th>Magnitude Seismic Stations</th>\n",
       "      <th>Azimuthal Gap</th>\n",
       "      <th>Horizontal Distance</th>\n",
       "      <th>Horizontal Error</th>\n",
       "      <th>Root Mean Square</th>\n",
       "      <th>ID</th>\n",
       "      <th>Source</th>\n",
       "      <th>Location Source</th>\n",
       "      <th>Magnitude Source</th>\n",
       "      <th>Status</th>\n",
       "    </tr>\n",
       "  </thead>\n",
       "  <tbody>\n",
       "    <tr>\n",
       "      <th>3378</th>\n",
       "      <td>1975-02-23T02:58:41.000Z</td>\n",
       "      <td>1975-02-23T02:58:41.000Z</td>\n",
       "      <td>8.017</td>\n",
       "      <td>124.075</td>\n",
       "      <td>Earthquake</td>\n",
       "      <td>623.0</td>\n",
       "      <td>NaN</td>\n",
       "      <td>NaN</td>\n",
       "      <td>5.6</td>\n",
       "      <td>MB</td>\n",
       "      <td>...</td>\n",
       "      <td>NaN</td>\n",
       "      <td>NaN</td>\n",
       "      <td>NaN</td>\n",
       "      <td>NaN</td>\n",
       "      <td>NaN</td>\n",
       "      <td>USP0000A09</td>\n",
       "      <td>US</td>\n",
       "      <td>US</td>\n",
       "      <td>US</td>\n",
       "      <td>Reviewed</td>\n",
       "    </tr>\n",
       "    <tr>\n",
       "      <th>7512</th>\n",
       "      <td>1985-04-28T02:53:41.530Z</td>\n",
       "      <td>1985-04-28T02:53:41.530Z</td>\n",
       "      <td>-32.998</td>\n",
       "      <td>-71.766</td>\n",
       "      <td>Earthquake</td>\n",
       "      <td>33.0</td>\n",
       "      <td>NaN</td>\n",
       "      <td>NaN</td>\n",
       "      <td>5.6</td>\n",
       "      <td>MW</td>\n",
       "      <td>...</td>\n",
       "      <td>NaN</td>\n",
       "      <td>NaN</td>\n",
       "      <td>NaN</td>\n",
       "      <td>NaN</td>\n",
       "      <td>1.30</td>\n",
       "      <td>USP0002E81</td>\n",
       "      <td>US</td>\n",
       "      <td>US</td>\n",
       "      <td>HRV</td>\n",
       "      <td>Reviewed</td>\n",
       "    </tr>\n",
       "    <tr>\n",
       "      <th>20650</th>\n",
       "      <td>2011-03-13T02:23:34.520Z</td>\n",
       "      <td>2011-03-13T02:23:34.520Z</td>\n",
       "      <td>36.344</td>\n",
       "      <td>142.344</td>\n",
       "      <td>Earthquake</td>\n",
       "      <td>10.1</td>\n",
       "      <td>13.9</td>\n",
       "      <td>289.0</td>\n",
       "      <td>5.8</td>\n",
       "      <td>MWC</td>\n",
       "      <td>...</td>\n",
       "      <td>NaN</td>\n",
       "      <td>32.3</td>\n",
       "      <td>NaN</td>\n",
       "      <td>NaN</td>\n",
       "      <td>1.06</td>\n",
       "      <td>USP000HWQP</td>\n",
       "      <td>US</td>\n",
       "      <td>US</td>\n",
       "      <td>GCMT</td>\n",
       "      <td>Reviewed</td>\n",
       "    </tr>\n",
       "  </tbody>\n",
       "</table>\n",
       "<p>3 rows × 21 columns</p>\n",
       "</div>"
      ],
      "text/plain": [
       "                           Date                      Time  Latitude  \\\n",
       "3378   1975-02-23T02:58:41.000Z  1975-02-23T02:58:41.000Z     8.017   \n",
       "7512   1985-04-28T02:53:41.530Z  1985-04-28T02:53:41.530Z   -32.998   \n",
       "20650  2011-03-13T02:23:34.520Z  2011-03-13T02:23:34.520Z    36.344   \n",
       "\n",
       "       Longitude        Type  Depth  Depth Error  Depth Seismic Stations  \\\n",
       "3378     124.075  Earthquake  623.0          NaN                     NaN   \n",
       "7512     -71.766  Earthquake   33.0          NaN                     NaN   \n",
       "20650    142.344  Earthquake   10.1         13.9                   289.0   \n",
       "\n",
       "       Magnitude Magnitude Type  ...  Magnitude Seismic Stations  \\\n",
       "3378         5.6             MB  ...                         NaN   \n",
       "7512         5.6             MW  ...                         NaN   \n",
       "20650        5.8            MWC  ...                         NaN   \n",
       "\n",
       "       Azimuthal Gap  Horizontal Distance  Horizontal Error  Root Mean Square  \\\n",
       "3378             NaN                  NaN               NaN               NaN   \n",
       "7512             NaN                  NaN               NaN              1.30   \n",
       "20650           32.3                  NaN               NaN              1.06   \n",
       "\n",
       "               ID Source Location Source Magnitude Source    Status  \n",
       "3378   USP0000A09     US              US               US  Reviewed  \n",
       "7512   USP0002E81     US              US              HRV  Reviewed  \n",
       "20650  USP000HWQP     US              US             GCMT  Reviewed  \n",
       "\n",
       "[3 rows x 21 columns]"
      ]
     },
     "execution_count": 8,
     "metadata": {},
     "output_type": "execute_result"
    }
   ],
   "source": [
    "indices = np.where([date_lengths == 24])[1]\n",
    "print('Indices with corrupted data:', indices)\n",
    "earthquakes.loc[indices]"
   ]
  },
  {
   "cell_type": "markdown",
   "id": "ca17fcb8",
   "metadata": {
    "papermill": {
     "duration": 0.024877,
     "end_time": "2022-01-14T17:24:00.352264",
     "exception": false,
     "start_time": "2022-01-14T17:24:00.327387",
     "status": "completed"
    },
    "tags": []
   },
   "source": [
    "Given all of this information, it's your turn to create a new column \"date_parsed\" in the `earthquakes` dataset that has correctly parsed dates in it.  \n",
    "\n",
    "**Note**: When completing this problem, you are allowed to (but are not required to) amend the entries in the \"Date\" and \"Time\" columns.  Do not remove any rows from the dataset."
   ]
  },
  {
   "cell_type": "code",
   "execution_count": 9,
   "id": "b7255f03",
   "metadata": {
    "execution": {
     "iopub.execute_input": "2022-01-14T17:24:00.413307Z",
     "iopub.status.busy": "2022-01-14T17:24:00.412660Z",
     "iopub.status.idle": "2022-01-14T17:24:00.478497Z",
     "shell.execute_reply": "2022-01-14T17:24:00.477950Z",
     "shell.execute_reply.started": "2022-01-14T17:23:21.374465Z"
    },
    "papermill": {
     "duration": 0.101057,
     "end_time": "2022-01-14T17:24:00.478631",
     "exception": false,
     "start_time": "2022-01-14T17:24:00.377574",
     "status": "completed"
    },
    "tags": []
   },
   "outputs": [
    {
     "data": {
      "application/javascript": [
       "parent.postMessage({\"jupyterEvent\": \"custom.exercise_interaction\", \"data\": {\"outcomeType\": 1, \"valueTowardsCompletion\": 0.25, \"interactionType\": 1, \"questionType\": 2, \"questionId\": \"2_ConvertToDatetime\", \"learnToolsVersion\": \"0.3.4\", \"failureMessage\": \"\", \"exceptionClass\": \"\", \"trace\": \"\"}}, \"*\")"
      ],
      "text/plain": [
       "<IPython.core.display.Javascript object>"
      ]
     },
     "metadata": {},
     "output_type": "display_data"
    },
    {
     "data": {
      "text/markdown": [
       "<span style=\"color:#33cc33\">Correct</span>"
      ],
      "text/plain": [
       "Correct"
      ]
     },
     "metadata": {},
     "output_type": "display_data"
    }
   ],
   "source": [
    "# TODO: Your code here\n",
    "earthquakes.loc[3378,'Date']=\"02/23/1975\"\n",
    "earthquakes.loc[7512, \"Date\"] = \"04/28/1985\"\n",
    "earthquakes.loc[20650, \"Date\"] = \"03/13/2011\"\n",
    "earthquakes['date_parsed']=pd.to_datetime(earthquakes['Date'],format=\"%m/%d/%Y\")\n",
    "# Check your answer\n",
    "q2.check()"
   ]
  },
  {
   "cell_type": "code",
   "execution_count": 10,
   "id": "803bb732",
   "metadata": {
    "execution": {
     "iopub.execute_input": "2022-01-14T17:24:00.534699Z",
     "iopub.status.busy": "2022-01-14T17:24:00.534082Z",
     "iopub.status.idle": "2022-01-14T17:24:00.536609Z",
     "shell.execute_reply": "2022-01-14T17:24:00.537186Z",
     "shell.execute_reply.started": "2022-01-14T17:23:21.448556Z"
    },
    "papermill": {
     "duration": 0.031903,
     "end_time": "2022-01-14T17:24:00.537340",
     "exception": false,
     "start_time": "2022-01-14T17:24:00.505437",
     "status": "completed"
    },
    "tags": []
   },
   "outputs": [],
   "source": [
    "# Lines below will give you a hint or solution code\n",
    "#q2.hint()\n",
    "#q2.solution()"
   ]
  },
  {
   "cell_type": "markdown",
   "id": "5f288481",
   "metadata": {
    "papermill": {
     "duration": 0.025914,
     "end_time": "2022-01-14T17:24:00.589322",
     "exception": false,
     "start_time": "2022-01-14T17:24:00.563408",
     "status": "completed"
    },
    "tags": []
   },
   "source": [
    "# 3) Select the day of the month\n",
    "\n",
    "Create a Pandas Series `day_of_month_earthquakes` containing the day of the month from the \"date_parsed\" column."
   ]
  },
  {
   "cell_type": "code",
   "execution_count": 11,
   "id": "14f3c6fd",
   "metadata": {
    "execution": {
     "iopub.execute_input": "2022-01-14T17:24:00.644726Z",
     "iopub.status.busy": "2022-01-14T17:24:00.644103Z",
     "iopub.status.idle": "2022-01-14T17:24:00.653877Z",
     "shell.execute_reply": "2022-01-14T17:24:00.654446Z",
     "shell.execute_reply.started": "2022-01-14T17:23:21.453400Z"
    },
    "papermill": {
     "duration": 0.039119,
     "end_time": "2022-01-14T17:24:00.654617",
     "exception": false,
     "start_time": "2022-01-14T17:24:00.615498",
     "status": "completed"
    },
    "tags": []
   },
   "outputs": [
    {
     "data": {
      "application/javascript": [
       "parent.postMessage({\"jupyterEvent\": \"custom.exercise_interaction\", \"data\": {\"outcomeType\": 1, \"valueTowardsCompletion\": 0.25, \"interactionType\": 1, \"questionType\": 1, \"questionId\": \"3_DayOfMonth\", \"learnToolsVersion\": \"0.3.4\", \"failureMessage\": \"\", \"exceptionClass\": \"\", \"trace\": \"\"}}, \"*\")"
      ],
      "text/plain": [
       "<IPython.core.display.Javascript object>"
      ]
     },
     "metadata": {},
     "output_type": "display_data"
    },
    {
     "data": {
      "text/markdown": [
       "<span style=\"color:#33cc33\">Correct</span>"
      ],
      "text/plain": [
       "Correct"
      ]
     },
     "metadata": {},
     "output_type": "display_data"
    }
   ],
   "source": [
    "# try to get the day of the month from the date column\n",
    "day_of_month_earthquakes = earthquakes['date_parsed'].dt.day\n",
    "\n",
    "# Check your answer\n",
    "q3.check()"
   ]
  },
  {
   "cell_type": "code",
   "execution_count": 12,
   "id": "e1d9582b",
   "metadata": {
    "execution": {
     "iopub.execute_input": "2022-01-14T17:24:00.714155Z",
     "iopub.status.busy": "2022-01-14T17:24:00.713380Z",
     "iopub.status.idle": "2022-01-14T17:24:00.715526Z",
     "shell.execute_reply": "2022-01-14T17:24:00.716012Z",
     "shell.execute_reply.started": "2022-01-14T17:23:21.471983Z"
    },
    "papermill": {
     "duration": 0.034256,
     "end_time": "2022-01-14T17:24:00.716172",
     "exception": false,
     "start_time": "2022-01-14T17:24:00.681916",
     "status": "completed"
    },
    "tags": []
   },
   "outputs": [],
   "source": [
    "# Lines below will give you a hint or solution code\n",
    "#q3.hint()\n",
    "#q3.solution()"
   ]
  },
  {
   "cell_type": "markdown",
   "id": "205046f4",
   "metadata": {
    "papermill": {
     "duration": 0.027364,
     "end_time": "2022-01-14T17:24:00.770828",
     "exception": false,
     "start_time": "2022-01-14T17:24:00.743464",
     "status": "completed"
    },
    "tags": []
   },
   "source": [
    "# 4) Plot the day of the month to check the date parsing\n",
    "\n",
    "Plot the days of the month from your earthquake dataset."
   ]
  },
  {
   "cell_type": "code",
   "execution_count": 13,
   "id": "9732f43b",
   "metadata": {
    "execution": {
     "iopub.execute_input": "2022-01-14T17:24:00.829848Z",
     "iopub.status.busy": "2022-01-14T17:24:00.829196Z",
     "iopub.status.idle": "2022-01-14T17:24:01.123752Z",
     "shell.execute_reply": "2022-01-14T17:24:01.123229Z",
     "shell.execute_reply.started": "2022-01-14T17:23:27.980624Z"
    },
    "papermill": {
     "duration": 0.326102,
     "end_time": "2022-01-14T17:24:01.123920",
     "exception": false,
     "start_time": "2022-01-14T17:24:00.797818",
     "status": "completed"
    },
    "tags": []
   },
   "outputs": [
    {
     "name": "stderr",
     "output_type": "stream",
     "text": [
      "/opt/conda/lib/python3.7/site-packages/seaborn/distributions.py:2619: FutureWarning: `distplot` is a deprecated function and will be removed in a future version. Please adapt your code to use either `displot` (a figure-level function with similar flexibility) or `histplot` (an axes-level function for histograms).\n",
      "  warnings.warn(msg, FutureWarning)\n"
     ]
    },
    {
     "data": {
      "text/plain": [
       "<AxesSubplot:xlabel='date_parsed'>"
      ]
     },
     "execution_count": 13,
     "metadata": {},
     "output_type": "execute_result"
    },
    {
     "data": {
      "image/png": "[encoded data removed]",
      "text/plain": [
       "<Figure size 432x288 with 1 Axes>"
      ]
     },
     "metadata": {
      "needs_background": "light"
     },
     "output_type": "display_data"
    }
   ],
   "source": [
    "# TODO: Your code here!\n",
    "day_of_month_earthquakes=day_of_month_earthquakes.dropna()\n",
    "sns.distplot(day_of_month_earthquakes, kde=False, bins=31)\n"
   ]
  },
  {
   "cell_type": "markdown",
   "id": "0313fedf",
   "metadata": {
    "papermill": {
     "duration": 0.028271,
     "end_time": "2022-01-14T17:24:01.180879",
     "exception": false,
     "start_time": "2022-01-14T17:24:01.152608",
     "status": "completed"
    },
    "tags": []
   },
   "source": [
    "Does the graph make sense to you?"
   ]
  },
  {
   "cell_type": "code",
   "execution_count": 14,
   "id": "98cb3319",
   "metadata": {
    "execution": {
     "iopub.execute_input": "2022-01-14T17:24:01.241710Z",
     "iopub.status.busy": "2022-01-14T17:24:01.240748Z",
     "iopub.status.idle": "2022-01-14T17:24:01.247576Z",
     "shell.execute_reply": "2022-01-14T17:24:01.248221Z",
     "shell.execute_reply.started": "2022-01-14T17:23:21.751208Z"
    },
    "papermill": {
     "duration": 0.039069,
     "end_time": "2022-01-14T17:24:01.248517",
     "exception": false,
     "start_time": "2022-01-14T17:24:01.209448",
     "status": "completed"
    },
    "tags": []
   },
   "outputs": [
    {
     "data": {
      "application/javascript": [
       "parent.postMessage({\"jupyterEvent\": \"custom.exercise_interaction\", \"data\": {\"outcomeType\": 1, \"valueTowardsCompletion\": 0.25, \"interactionType\": 1, \"questionType\": 4, \"questionId\": \"4_PlotDayOfMonth\", \"learnToolsVersion\": \"0.3.4\", \"failureMessage\": \"\", \"exceptionClass\": \"\", \"trace\": \"\"}}, \"*\")"
      ],
      "text/plain": [
       "<IPython.core.display.Javascript object>"
      ]
     },
     "metadata": {},
     "output_type": "display_data"
    },
    {
     "data": {
      "text/markdown": [
       "<span style=\"color:#33cc33\">Correct:</span> \n",
       "\n",
       "The graph should make sense: it shows a relatively even distribution in days of the month,which is what we would expect."
      ],
      "text/plain": [
       "Correct: \n",
       "\n",
       "The graph should make sense: it shows a relatively even distribution in days of the month,which is what we would expect."
      ]
     },
     "metadata": {},
     "output_type": "display_data"
    }
   ],
   "source": [
    "# Check your answer (Run this code cell to receive credit!)\n",
    "q4.check()"
   ]
  },
  {
   "cell_type": "code",
   "execution_count": 15,
   "id": "aff1f913",
   "metadata": {
    "execution": {
     "iopub.execute_input": "2022-01-14T17:24:01.312807Z",
     "iopub.status.busy": "2022-01-14T17:24:01.311756Z",
     "iopub.status.idle": "2022-01-14T17:24:01.313788Z",
     "shell.execute_reply": "2022-01-14T17:24:01.314388Z",
     "shell.execute_reply.started": "2022-01-14T17:23:21.761332Z"
    },
    "papermill": {
     "duration": 0.036303,
     "end_time": "2022-01-14T17:24:01.314553",
     "exception": false,
     "start_time": "2022-01-14T17:24:01.278250",
     "status": "completed"
    },
    "tags": []
   },
   "outputs": [],
   "source": [
    "# Line below will give you a hint\n",
    "#q4.hint()"
   ]
  },
  {
   "cell_type": "markdown",
   "id": "d39b5355",
   "metadata": {
    "papermill": {
     "duration": 0.029679,
     "end_time": "2022-01-14T17:24:01.373552",
     "exception": false,
     "start_time": "2022-01-14T17:24:01.343873",
     "status": "completed"
    },
    "tags": []
   },
   "source": [
    "# (Optional) Bonus Challenge\n",
    "\n",
    "For an extra challenge, you'll work with a [Smithsonian dataset](https://www.kaggle.com/smithsonian/volcanic-eruptions) that documents Earth's volcanoes and their eruptive history over the past 10,000 years \n",
    "\n",
    "Run the next code cell to load the data."
   ]
  },
  {
   "cell_type": "code",
   "execution_count": 16,
   "id": "3841f79e",
   "metadata": {
    "execution": {
     "iopub.execute_input": "2022-01-14T17:24:01.436566Z",
     "iopub.status.busy": "2022-01-14T17:24:01.435580Z",
     "iopub.status.idle": "2022-01-14T17:24:01.459146Z",
     "shell.execute_reply": "2022-01-14T17:24:01.459697Z",
     "shell.execute_reply.started": "2022-01-14T17:23:21.768363Z"
    },
    "papermill": {
     "duration": 0.056805,
     "end_time": "2022-01-14T17:24:01.459883",
     "exception": false,
     "start_time": "2022-01-14T17:24:01.403078",
     "status": "completed"
    },
    "tags": []
   },
   "outputs": [],
   "source": [
    "volcanos = pd.read_csv(\"../input/volcanic-eruptions/database.csv\")"
   ]
  },
  {
   "cell_type": "markdown",
   "id": "f48b94f8",
   "metadata": {
    "papermill": {
     "duration": 0.031288,
     "end_time": "2022-01-14T17:24:01.523389",
     "exception": false,
     "start_time": "2022-01-14T17:24:01.492101",
     "status": "completed"
    },
    "tags": []
   },
   "source": [
    "Try parsing the column \"Last Known Eruption\" from the `volcanos` dataframe. This column contains a mixture of text (\"Unknown\") and years both before the common era (BCE, also known as BC) and in the common era (CE, also known as AD)."
   ]
  },
  {
   "cell_type": "code",
   "execution_count": 17,
   "id": "314c50c4",
   "metadata": {
    "execution": {
     "iopub.execute_input": "2022-01-14T17:24:01.589532Z",
     "iopub.status.busy": "2022-01-14T17:24:01.588860Z",
     "iopub.status.idle": "2022-01-14T17:24:01.596696Z",
     "shell.execute_reply": "2022-01-14T17:24:01.597337Z",
     "shell.execute_reply.started": "2022-01-14T17:23:21.791733Z"
    },
    "papermill": {
     "duration": 0.042873,
     "end_time": "2022-01-14T17:24:01.597517",
     "exception": false,
     "start_time": "2022-01-14T17:24:01.554644",
     "status": "completed"
    },
    "tags": []
   },
   "outputs": [
    {
     "data": {
      "text/plain": [
       "764     Unknown\n",
       "1069    1996 CE\n",
       "34      1855 CE\n",
       "489     2016 CE\n",
       "9       1302 CE\n",
       "Name: Last Known Eruption, dtype: object"
      ]
     },
     "execution_count": 17,
     "metadata": {},
     "output_type": "execute_result"
    }
   ],
   "source": [
    "volcanos['Last Known Eruption'].sample(5)"
   ]
  },
  {
   "cell_type": "markdown",
   "id": "527303a2",
   "metadata": {
    "papermill": {
     "duration": 0.031069,
     "end_time": "2022-01-14T17:24:01.660161",
     "exception": false,
     "start_time": "2022-01-14T17:24:01.629092",
     "status": "completed"
    },
    "tags": []
   },
   "source": [
    "# (Optional) More practice\n",
    "\n",
    "If you're interested in graphing time series, [check out this tutorial](https://www.kaggle.com/residentmario/time-series-plotting-optional).\n",
    "\n",
    "You can also look into passing columns that you know have dates in them  the `parse_dates` argument in `read_csv`. (The documention [is here](https://pandas.pydata.org/pandas-docs/stable/generated/pandas.read_csv.html).) Do note that this method can be very slow, but depending on your needs it may sometimes be handy to use.\n",
    "\n",
    "# Keep going\n",
    "\n",
    "In the next lesson, learn how to [**work with character encodings**](https://www.kaggle.com/alexisbcook/character-encodings)."
   ]
  },
  {
   "cell_type": "markdown",
   "id": "eb7747b2",
   "metadata": {
    "papermill": {
     "duration": 0.029888,
     "end_time": "2022-01-14T17:24:01.720279",
     "exception": false,
     "start_time": "2022-01-14T17:24:01.690391",
     "status": "completed"
    },
    "tags": []
   },
   "source": [
    "---\n",
    "\n",
    "\n",
    "\n",
    "\n",
    "*Have questions or comments? Visit the [course discussion forum](https://www.kaggle.com/learn/data-cleaning/discussion) to chat with other learners.*"
   ]
  }
 ],
 "metadata": {
  "kernelspec": {
   "display_name": "Python 3",
   "language": "python",
   "name": "python3"
  },
  "language_info": {
   "codemirror_mode": {
    "name": "ipython",
    "version": 3
   },
   "file_extension": ".py",
   "mimetype": "text/x-python",
   "name": "python",
   "nbconvert_exporter": "python",
   "pygments_lexer": "ipython3",
   "version": "3.7.12"
  },
  "papermill": {
   "default_parameters": {},
   "duration": 13.985986,
   "end_time": "2022-01-14T17:24:02.460376",
   "environment_variables": {},
   "exception": null,
   "input_path": "__notebook__.ipynb",
   "output_path": "__notebook__.ipynb",
   "parameters": {},
   "start_time": "2022-01-14T17:23:48.474390",
   "version": "2.3.3"
  }
 },
 "nbformat": 4,
 "nbformat_minor": 5
}
