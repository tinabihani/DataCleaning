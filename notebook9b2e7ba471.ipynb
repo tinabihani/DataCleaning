{
 "cells": [
  {
   "cell_type": "markdown",
   "id": "cbc3b808",
   "metadata": {
    "papermill": {
     "duration": 0.026129,
     "end_time": "2022-01-14T12:14:55.380677",
     "exception": false,
     "start_time": "2022-01-14T12:14:55.354548",
     "status": "completed"
    },
    "tags": []
   },
   "source": [
    "**This notebook is an exercise in the [Data Cleaning](https://www.kaggle.com/learn/data-cleaning) course.  You can reference the tutorial at [this link](https://www.kaggle.com/alexisbcook/handling-missing-values).**\n",
    "\n",
    "---\n"
   ]
  },
  {
   "cell_type": "markdown",
   "id": "d190cfd1",
   "metadata": {
    "papermill": {
     "duration": 0.0231,
     "end_time": "2022-01-14T12:14:55.428208",
     "exception": false,
     "start_time": "2022-01-14T12:14:55.405108",
     "status": "completed"
    },
    "tags": []
   },
   "source": [
    "In this exercise, you'll apply what you learned in the **Handling missing values** tutorial.\n",
    "\n",
    "# Setup\n",
    "\n",
    "The questions below will give you feedback on your work. Run the following cell to set up the feedback system."
   ]
  },
  {
   "cell_type": "code",
   "execution_count": 1,
   "id": "ab823188",
   "metadata": {
    "execution": {
     "iopub.execute_input": "2022-01-14T12:14:55.489857Z",
     "iopub.status.busy": "2022-01-14T12:14:55.489095Z",
     "iopub.status.idle": "2022-01-14T12:15:00.565697Z",
     "shell.execute_reply": "2022-01-14T12:15:00.566076Z",
     "shell.execute_reply.started": "2022-01-14T12:10:37.255961Z"
    },
    "papermill": {
     "duration": 5.114709,
     "end_time": "2022-01-14T12:15:00.566324",
     "exception": false,
     "start_time": "2022-01-14T12:14:55.451615",
     "status": "completed"
    },
    "tags": []
   },
   "outputs": [
    {
     "name": "stderr",
     "output_type": "stream",
     "text": [
      "/opt/conda/lib/python3.7/site-packages/ipykernel_launcher.py:3: DtypeWarning: Columns (22,32) have mixed types.Specify dtype option on import or set low_memory=False.\n",
      "  This is separate from the ipykernel package so we can avoid doing imports until\n"
     ]
    },
    {
     "name": "stdout",
     "output_type": "stream",
     "text": [
      "Setup Complete\n"
     ]
    }
   ],
   "source": [
    "from learntools.core import binder\n",
    "binder.bind(globals())\n",
    "from learntools.data_cleaning.ex1 import *\n",
    "print(\"Setup Complete\")"
   ]
  },
  {
   "cell_type": "code",
   "execution_count": 2,
   "id": "68971611",
   "metadata": {
    "execution": {
     "iopub.execute_input": "2022-01-14T12:15:00.605163Z",
     "iopub.status.busy": "2022-01-14T12:15:00.604598Z",
     "iopub.status.idle": "2022-01-14T12:15:02.598554Z",
     "shell.execute_reply": "2022-01-14T12:15:02.597788Z",
     "shell.execute_reply.started": "2022-01-14T12:10:37.264786Z"
    },
    "papermill": {
     "duration": 2.015294,
     "end_time": "2022-01-14T12:15:02.598720",
     "exception": false,
     "start_time": "2022-01-14T12:15:00.583426",
     "status": "completed"
    },
    "tags": []
   },
   "outputs": [
    {
     "name": "stderr",
     "output_type": "stream",
     "text": [
      "/opt/conda/lib/python3.7/site-packages/IPython/core/interactiveshell.py:3457: DtypeWarning: Columns (22,32) have mixed types.Specify dtype option on import or set low_memory=False.\n",
      "  exec(code_obj, self.user_global_ns, self.user_ns)\n"
     ]
    }
   ],
   "source": [
    "# modules we'll use\n",
    "import pandas as pd\n",
    "import numpy as np\n",
    "\n",
    "# read in all our data\n",
    "sf_permits = pd.read_csv(\"../input/building-permit-applications-data/Building_Permits.csv\")\n",
    "\n",
    "# set seed for reproducibility\n",
    "np.random.seed(0) "
   ]
  },
  {
   "cell_type": "markdown",
   "id": "fdae9ca0",
   "metadata": {
    "papermill": {
     "duration": 0.02415,
     "end_time": "2022-01-14T12:15:02.648425",
     "exception": false,
     "start_time": "2022-01-14T12:15:02.624275",
     "status": "completed"
    },
    "tags": []
   },
   "source": [
    "Use the code cell below to print the first five rows of the `sf_permits` DataFrame."
   ]
  },
  {
   "cell_type": "code",
   "execution_count": 3,
   "id": "3bbe1d72",
   "metadata": {
    "execution": {
     "iopub.execute_input": "2022-01-14T12:15:02.709070Z",
     "iopub.status.busy": "2022-01-14T12:15:02.708141Z",
     "iopub.status.idle": "2022-01-14T12:15:02.738594Z",
     "shell.execute_reply": "2022-01-14T12:15:02.738992Z",
     "shell.execute_reply.started": "2022-01-14T12:10:38.986043Z"
    },
    "papermill": {
     "duration": 0.065999,
     "end_time": "2022-01-14T12:15:02.739167",
     "exception": false,
     "start_time": "2022-01-14T12:15:02.673168",
     "status": "completed"
    },
    "tags": []
   },
   "outputs": [
    {
     "data": {
      "text/html": [
       "<div>\n",
       "<style scoped>\n",
       "    .dataframe tbody tr th:only-of-type {\n",
       "        vertical-align: middle;\n",
       "    }\n",
       "\n",
       "    .dataframe tbody tr th {\n",
       "        vertical-align: top;\n",
       "    }\n",
       "\n",
       "    .dataframe thead th {\n",
       "        text-align: right;\n",
       "    }\n",
       "</style>\n",
       "<table border=\"1\" class=\"dataframe\">\n",
       "  <thead>\n",
       "    <tr style=\"text-align: right;\">\n",
       "      <th></th>\n",
       "      <th>Permit Number</th>\n",
       "      <th>Permit Type</th>\n",
       "      <th>Permit Type Definition</th>\n",
       "      <th>Permit Creation Date</th>\n",
       "      <th>Block</th>\n",
       "      <th>Lot</th>\n",
       "      <th>Street Number</th>\n",
       "      <th>Street Number Suffix</th>\n",
       "      <th>Street Name</th>\n",
       "      <th>Street Suffix</th>\n",
       "      <th>...</th>\n",
       "      <th>Existing Construction Type</th>\n",
       "      <th>Existing Construction Type Description</th>\n",
       "      <th>Proposed Construction Type</th>\n",
       "      <th>Proposed Construction Type Description</th>\n",
       "      <th>Site Permit</th>\n",
       "      <th>Supervisor District</th>\n",
       "      <th>Neighborhoods - Analysis Boundaries</th>\n",
       "      <th>Zipcode</th>\n",
       "      <th>Location</th>\n",
       "      <th>Record ID</th>\n",
       "    </tr>\n",
       "  </thead>\n",
       "  <tbody>\n",
       "    <tr>\n",
       "      <th>0</th>\n",
       "      <td>201505065519</td>\n",
       "      <td>4</td>\n",
       "      <td>sign - erect</td>\n",
       "      <td>05/06/2015</td>\n",
       "      <td>0326</td>\n",
       "      <td>023</td>\n",
       "      <td>140</td>\n",
       "      <td>NaN</td>\n",
       "      <td>Ellis</td>\n",
       "      <td>St</td>\n",
       "      <td>...</td>\n",
       "      <td>3.0</td>\n",
       "      <td>constr type 3</td>\n",
       "      <td>NaN</td>\n",
       "      <td>NaN</td>\n",
       "      <td>NaN</td>\n",
       "      <td>3.0</td>\n",
       "      <td>Tenderloin</td>\n",
       "      <td>94102.0</td>\n",
       "      <td>(37.785719256680785, -122.40852313194863)</td>\n",
       "      <td>1380611233945</td>\n",
       "    </tr>\n",
       "    <tr>\n",
       "      <th>1</th>\n",
       "      <td>201604195146</td>\n",
       "      <td>4</td>\n",
       "      <td>sign - erect</td>\n",
       "      <td>04/19/2016</td>\n",
       "      <td>0306</td>\n",
       "      <td>007</td>\n",
       "      <td>440</td>\n",
       "      <td>NaN</td>\n",
       "      <td>Geary</td>\n",
       "      <td>St</td>\n",
       "      <td>...</td>\n",
       "      <td>3.0</td>\n",
       "      <td>constr type 3</td>\n",
       "      <td>NaN</td>\n",
       "      <td>NaN</td>\n",
       "      <td>NaN</td>\n",
       "      <td>3.0</td>\n",
       "      <td>Tenderloin</td>\n",
       "      <td>94102.0</td>\n",
       "      <td>(37.78733980600732, -122.41063199757738)</td>\n",
       "      <td>1420164406718</td>\n",
       "    </tr>\n",
       "    <tr>\n",
       "      <th>2</th>\n",
       "      <td>201605278609</td>\n",
       "      <td>3</td>\n",
       "      <td>additions alterations or repairs</td>\n",
       "      <td>05/27/2016</td>\n",
       "      <td>0595</td>\n",
       "      <td>203</td>\n",
       "      <td>1647</td>\n",
       "      <td>NaN</td>\n",
       "      <td>Pacific</td>\n",
       "      <td>Av</td>\n",
       "      <td>...</td>\n",
       "      <td>1.0</td>\n",
       "      <td>constr type 1</td>\n",
       "      <td>1.0</td>\n",
       "      <td>constr type 1</td>\n",
       "      <td>NaN</td>\n",
       "      <td>3.0</td>\n",
       "      <td>Russian Hill</td>\n",
       "      <td>94109.0</td>\n",
       "      <td>(37.7946573324287, -122.42232562979227)</td>\n",
       "      <td>1424856504716</td>\n",
       "    </tr>\n",
       "    <tr>\n",
       "      <th>3</th>\n",
       "      <td>201611072166</td>\n",
       "      <td>8</td>\n",
       "      <td>otc alterations permit</td>\n",
       "      <td>11/07/2016</td>\n",
       "      <td>0156</td>\n",
       "      <td>011</td>\n",
       "      <td>1230</td>\n",
       "      <td>NaN</td>\n",
       "      <td>Pacific</td>\n",
       "      <td>Av</td>\n",
       "      <td>...</td>\n",
       "      <td>5.0</td>\n",
       "      <td>wood frame (5)</td>\n",
       "      <td>5.0</td>\n",
       "      <td>wood frame (5)</td>\n",
       "      <td>NaN</td>\n",
       "      <td>3.0</td>\n",
       "      <td>Nob Hill</td>\n",
       "      <td>94109.0</td>\n",
       "      <td>(37.79595867909168, -122.41557405519474)</td>\n",
       "      <td>1443574295566</td>\n",
       "    </tr>\n",
       "    <tr>\n",
       "      <th>4</th>\n",
       "      <td>201611283529</td>\n",
       "      <td>6</td>\n",
       "      <td>demolitions</td>\n",
       "      <td>11/28/2016</td>\n",
       "      <td>0342</td>\n",
       "      <td>001</td>\n",
       "      <td>950</td>\n",
       "      <td>NaN</td>\n",
       "      <td>Market</td>\n",
       "      <td>St</td>\n",
       "      <td>...</td>\n",
       "      <td>3.0</td>\n",
       "      <td>constr type 3</td>\n",
       "      <td>NaN</td>\n",
       "      <td>NaN</td>\n",
       "      <td>NaN</td>\n",
       "      <td>6.0</td>\n",
       "      <td>Tenderloin</td>\n",
       "      <td>94102.0</td>\n",
       "      <td>(37.78315261897309, -122.40950883997789)</td>\n",
       "      <td>144548169992</td>\n",
       "    </tr>\n",
       "  </tbody>\n",
       "</table>\n",
       "<p>5 rows × 43 columns</p>\n",
       "</div>"
      ],
      "text/plain": [
       "  Permit Number  Permit Type            Permit Type Definition  \\\n",
       "0  201505065519            4                      sign - erect   \n",
       "1  201604195146            4                      sign - erect   \n",
       "2  201605278609            3  additions alterations or repairs   \n",
       "3  201611072166            8            otc alterations permit   \n",
       "4  201611283529            6                       demolitions   \n",
       "\n",
       "  Permit Creation Date Block  Lot  Street Number Street Number Suffix  \\\n",
       "0           05/06/2015  0326  023            140                  NaN   \n",
       "1           04/19/2016  0306  007            440                  NaN   \n",
       "2           05/27/2016  0595  203           1647                  NaN   \n",
       "3           11/07/2016  0156  011           1230                  NaN   \n",
       "4           11/28/2016  0342  001            950                  NaN   \n",
       "\n",
       "  Street Name Street Suffix  ...  Existing Construction Type  \\\n",
       "0       Ellis            St  ...                         3.0   \n",
       "1       Geary            St  ...                         3.0   \n",
       "2     Pacific            Av  ...                         1.0   \n",
       "3     Pacific            Av  ...                         5.0   \n",
       "4      Market            St  ...                         3.0   \n",
       "\n",
       "  Existing Construction Type Description Proposed Construction Type  \\\n",
       "0                          constr type 3                        NaN   \n",
       "1                          constr type 3                        NaN   \n",
       "2                          constr type 1                        1.0   \n",
       "3                         wood frame (5)                        5.0   \n",
       "4                          constr type 3                        NaN   \n",
       "\n",
       "  Proposed Construction Type Description Site Permit Supervisor District  \\\n",
       "0                                    NaN         NaN                 3.0   \n",
       "1                                    NaN         NaN                 3.0   \n",
       "2                          constr type 1         NaN                 3.0   \n",
       "3                         wood frame (5)         NaN                 3.0   \n",
       "4                                    NaN         NaN                 6.0   \n",
       "\n",
       "  Neighborhoods - Analysis Boundaries  Zipcode  \\\n",
       "0                          Tenderloin  94102.0   \n",
       "1                          Tenderloin  94102.0   \n",
       "2                        Russian Hill  94109.0   \n",
       "3                            Nob Hill  94109.0   \n",
       "4                          Tenderloin  94102.0   \n",
       "\n",
       "                                    Location      Record ID  \n",
       "0  (37.785719256680785, -122.40852313194863)  1380611233945  \n",
       "1   (37.78733980600732, -122.41063199757738)  1420164406718  \n",
       "2    (37.7946573324287, -122.42232562979227)  1424856504716  \n",
       "3   (37.79595867909168, -122.41557405519474)  1443574295566  \n",
       "4   (37.78315261897309, -122.40950883997789)   144548169992  \n",
       "\n",
       "[5 rows x 43 columns]"
      ]
     },
     "execution_count": 3,
     "metadata": {},
     "output_type": "execute_result"
    }
   ],
   "source": [
    "# TODO: Your code here!\n",
    "sf_permits.head()"
   ]
  },
  {
   "cell_type": "markdown",
   "id": "620ccb22",
   "metadata": {
    "papermill": {
     "duration": 0.017029,
     "end_time": "2022-01-14T12:15:02.773567",
     "exception": false,
     "start_time": "2022-01-14T12:15:02.756538",
     "status": "completed"
    },
    "tags": []
   },
   "source": [
    "Does the dataset have any missing values?  Once you have an answer, run the code cell below to get credit for your work."
   ]
  },
  {
   "cell_type": "code",
   "execution_count": 4,
   "id": "5265a371",
   "metadata": {
    "execution": {
     "iopub.execute_input": "2022-01-14T12:15:02.813426Z",
     "iopub.status.busy": "2022-01-14T12:15:02.812920Z",
     "iopub.status.idle": "2022-01-14T12:15:02.817713Z",
     "shell.execute_reply": "2022-01-14T12:15:02.817220Z",
     "shell.execute_reply.started": "2022-01-14T12:10:39.017872Z"
    },
    "papermill": {
     "duration": 0.027491,
     "end_time": "2022-01-14T12:15:02.817839",
     "exception": false,
     "start_time": "2022-01-14T12:15:02.790348",
     "status": "completed"
    },
    "tags": []
   },
   "outputs": [
    {
     "data": {
      "application/javascript": [
       "parent.postMessage({\"jupyterEvent\": \"custom.exercise_interaction\", \"data\": {\"outcomeType\": 1, \"valueTowardsCompletion\": 0.16666666666666666, \"interactionType\": 1, \"questionType\": 4, \"questionId\": \"1_TakeFirstLook\", \"learnToolsVersion\": \"0.3.4\", \"failureMessage\": \"\", \"exceptionClass\": \"\", \"trace\": \"\"}}, \"*\")"
      ],
      "text/plain": [
       "<IPython.core.display.Javascript object>"
      ]
     },
     "metadata": {},
     "output_type": "display_data"
    },
    {
     "data": {
      "text/markdown": [
       "<span style=\"color:#33cc33\">Correct:</span> \n",
       "\n",
       "The first five rows of the data does show that several columns have missing values.  You can see this in the \"Street Number Suffix\", \"Proposed Construction Type\" and \"Site Permit\" columns, among others."
      ],
      "text/plain": [
       "Correct: \n",
       "\n",
       "The first five rows of the data does show that several columns have missing values.  You can see this in the \"Street Number Suffix\", \"Proposed Construction Type\" and \"Site Permit\" columns, among others."
      ]
     },
     "metadata": {},
     "output_type": "display_data"
    }
   ],
   "source": [
    "# Check your answer (Run this code cell to receive credit!)\n",
    "q1.check()"
   ]
  },
  {
   "cell_type": "code",
   "execution_count": 5,
   "id": "ba7a6620",
   "metadata": {
    "execution": {
     "iopub.execute_input": "2022-01-14T12:15:02.858783Z",
     "iopub.status.busy": "2022-01-14T12:15:02.858229Z",
     "iopub.status.idle": "2022-01-14T12:15:02.862717Z",
     "shell.execute_reply": "2022-01-14T12:15:02.861864Z",
     "shell.execute_reply.started": "2022-01-14T12:10:39.031922Z"
    },
    "papermill": {
     "duration": 0.027226,
     "end_time": "2022-01-14T12:15:02.862841",
     "exception": false,
     "start_time": "2022-01-14T12:15:02.835615",
     "status": "completed"
    },
    "tags": []
   },
   "outputs": [],
   "source": [
    "# Line below will give you a hint\n",
    "#q1.hint()"
   ]
  },
  {
   "cell_type": "markdown",
   "id": "b7cdd8a8",
   "metadata": {
    "papermill": {
     "duration": 0.017766,
     "end_time": "2022-01-14T12:15:02.899090",
     "exception": false,
     "start_time": "2022-01-14T12:15:02.881324",
     "status": "completed"
    },
    "tags": []
   },
   "source": [
    "# 2) How many missing data points do we have?\n",
    "\n",
    "What percentage of the values in the dataset are missing?  Your answer should be a number between 0 and 100.  (If 1/4 of the values in the dataset are missing, the answer is 25.)"
   ]
  },
  {
   "cell_type": "code",
   "execution_count": 6,
   "id": "dcdc8c81",
   "metadata": {
    "execution": {
     "iopub.execute_input": "2022-01-14T12:15:02.939100Z",
     "iopub.status.busy": "2022-01-14T12:15:02.938414Z",
     "iopub.status.idle": "2022-01-14T12:15:03.151723Z",
     "shell.execute_reply": "2022-01-14T12:15:03.151121Z",
     "shell.execute_reply.started": "2022-01-14T12:10:39.042643Z"
    },
    "papermill": {
     "duration": 0.23536,
     "end_time": "2022-01-14T12:15:03.151937",
     "exception": false,
     "start_time": "2022-01-14T12:15:02.916577",
     "status": "completed"
    },
    "tags": []
   },
   "outputs": [
    {
     "data": {
      "application/javascript": [
       "parent.postMessage({\"jupyterEvent\": \"custom.exercise_interaction\", \"data\": {\"outcomeType\": 1, \"valueTowardsCompletion\": 0.16666666666666666, \"interactionType\": 1, \"questionType\": 1, \"questionId\": \"2_PercentMissingValues\", \"learnToolsVersion\": \"0.3.4\", \"failureMessage\": \"\", \"exceptionClass\": \"\", \"trace\": \"\"}}, \"*\")"
      ],
      "text/plain": [
       "<IPython.core.display.Javascript object>"
      ]
     },
     "metadata": {},
     "output_type": "display_data"
    },
    {
     "data": {
      "text/markdown": [
       "<span style=\"color:#33cc33\">Correct</span>"
      ],
      "text/plain": [
       "Correct"
      ]
     },
     "metadata": {},
     "output_type": "display_data"
    }
   ],
   "source": [
    "# TODO: Your code here!\n",
    "missing_values_count=sf_permits.isnull().sum()\n",
    "total_cells=np.product(sf_permits.shape)\n",
    "missing_cells=missing_values_count.sum()\n",
    "percent_missing = (missing_cells/total_cells)*100\n",
    "\n",
    "# Check your answer\n",
    "q2.check()"
   ]
  },
  {
   "cell_type": "code",
   "execution_count": 7,
   "id": "d56adf82",
   "metadata": {
    "execution": {
     "iopub.execute_input": "2022-01-14T12:15:03.212992Z",
     "iopub.status.busy": "2022-01-14T12:15:03.212305Z",
     "iopub.status.idle": "2022-01-14T12:15:03.216815Z",
     "shell.execute_reply": "2022-01-14T12:15:03.216131Z",
     "shell.execute_reply.started": "2022-01-14T12:10:39.310785Z"
    },
    "papermill": {
     "duration": 0.037257,
     "end_time": "2022-01-14T12:15:03.216960",
     "exception": false,
     "start_time": "2022-01-14T12:15:03.179703",
     "status": "completed"
    },
    "tags": []
   },
   "outputs": [],
   "source": [
    "# Lines below will give you a hint or solution code\n",
    "#q2.hint()\n",
    "#q2.solution()"
   ]
  },
  {
   "cell_type": "markdown",
   "id": "81d669ea",
   "metadata": {
    "papermill": {
     "duration": 0.027781,
     "end_time": "2022-01-14T12:15:03.272763",
     "exception": false,
     "start_time": "2022-01-14T12:15:03.244982",
     "status": "completed"
    },
    "tags": []
   },
   "source": [
    "# 3) Figure out why the data is missing\n",
    "\n",
    "Look at the columns **\"Street Number Suffix\"** and **\"Zipcode\"** from the [San Francisco Building Permits dataset](https://www.kaggle.com/aparnashastry/building-permit-applications-data). Both of these contain missing values. \n",
    "- Which, if either, are missing because they don't exist? \n",
    "- Which, if either, are missing because they weren't recorded?  \n",
    "\n",
    "Once you have an answer, run the code cell below."
   ]
  },
  {
   "cell_type": "code",
   "execution_count": 8,
   "id": "65f8988b",
   "metadata": {
    "execution": {
     "iopub.execute_input": "2022-01-14T12:15:03.334502Z",
     "iopub.status.busy": "2022-01-14T12:15:03.333629Z",
     "iopub.status.idle": "2022-01-14T12:15:03.338152Z",
     "shell.execute_reply": "2022-01-14T12:15:03.338897Z",
     "shell.execute_reply.started": "2022-01-14T12:10:39.316466Z"
    },
    "papermill": {
     "duration": 0.038084,
     "end_time": "2022-01-14T12:15:03.339061",
     "exception": false,
     "start_time": "2022-01-14T12:15:03.300977",
     "status": "completed"
    },
    "tags": []
   },
   "outputs": [
    {
     "data": {
      "application/javascript": [
       "parent.postMessage({\"jupyterEvent\": \"custom.exercise_interaction\", \"data\": {\"outcomeType\": 1, \"valueTowardsCompletion\": 0.16666666666666666, \"interactionType\": 1, \"questionType\": 4, \"questionId\": \"3_WhyDataMissing\", \"learnToolsVersion\": \"0.3.4\", \"failureMessage\": \"\", \"exceptionClass\": \"\", \"trace\": \"\"}}, \"*\")"
      ],
      "text/plain": [
       "<IPython.core.display.Javascript object>"
      ]
     },
     "metadata": {},
     "output_type": "display_data"
    },
    {
     "data": {
      "text/markdown": [
       "<span style=\"color:#33cc33\">Correct:</span> \n",
       "\n",
       "If a value in the \"Street Number Suffix\" column is missing, it is likely because it does not exist. If a value in the \"Zipcode\" column is missing, it was not recorded."
      ],
      "text/plain": [
       "Correct: \n",
       "\n",
       "If a value in the \"Street Number Suffix\" column is missing, it is likely because it does not exist. If a value in the \"Zipcode\" column is missing, it was not recorded."
      ]
     },
     "metadata": {},
     "output_type": "display_data"
    }
   ],
   "source": [
    "# Check your answer (Run this code cell to receive credit!)\n",
    "q3.check()"
   ]
  },
  {
   "cell_type": "code",
   "execution_count": 9,
   "id": "f0c4a549",
   "metadata": {
    "execution": {
     "iopub.execute_input": "2022-01-14T12:15:03.402546Z",
     "iopub.status.busy": "2022-01-14T12:15:03.401857Z",
     "iopub.status.idle": "2022-01-14T12:15:03.405427Z",
     "shell.execute_reply": "2022-01-14T12:15:03.404736Z",
     "shell.execute_reply.started": "2022-01-14T12:10:39.333695Z"
    },
    "papermill": {
     "duration": 0.037516,
     "end_time": "2022-01-14T12:15:03.405591",
     "exception": false,
     "start_time": "2022-01-14T12:15:03.368075",
     "status": "completed"
    },
    "tags": []
   },
   "outputs": [],
   "source": [
    "# Line below will give you a hint\n",
    "#q3.hint()"
   ]
  },
  {
   "cell_type": "markdown",
   "id": "7f85c336",
   "metadata": {
    "papermill": {
     "duration": 0.028396,
     "end_time": "2022-01-14T12:15:03.462804",
     "exception": false,
     "start_time": "2022-01-14T12:15:03.434408",
     "status": "completed"
    },
    "tags": []
   },
   "source": [
    "# 4) Drop missing values: rows\n",
    "\n",
    "If you removed all of the rows of `sf_permits` with missing values, how many rows are left?\n",
    "\n",
    "**Note**: Do not change the value of `sf_permits` when checking this.  "
   ]
  },
  {
   "cell_type": "code",
   "execution_count": 10,
   "id": "5cc4036b",
   "metadata": {
    "execution": {
     "iopub.execute_input": "2022-01-14T12:15:03.526716Z",
     "iopub.status.busy": "2022-01-14T12:15:03.525972Z",
     "iopub.status.idle": "2022-01-14T12:15:03.764004Z",
     "shell.execute_reply": "2022-01-14T12:15:03.763433Z",
     "shell.execute_reply.started": "2022-01-14T12:10:39.345772Z"
    },
    "papermill": {
     "duration": 0.271938,
     "end_time": "2022-01-14T12:15:03.764147",
     "exception": false,
     "start_time": "2022-01-14T12:15:03.492209",
     "status": "completed"
    },
    "tags": []
   },
   "outputs": [
    {
     "name": "stdout",
     "output_type": "stream",
     "text": [
      "0\n"
     ]
    }
   ],
   "source": [
    "# TODO: Your code here!\n",
    "rows_after_na=sf_permits.dropna()\n",
    "x=rows_after_na.shape[0]\n",
    "print(x)"
   ]
  },
  {
   "cell_type": "markdown",
   "id": "17ad123d",
   "metadata": {
    "papermill": {
     "duration": 0.02004,
     "end_time": "2022-01-14T12:15:03.806585",
     "exception": false,
     "start_time": "2022-01-14T12:15:03.786545",
     "status": "completed"
    },
    "tags": []
   },
   "source": [
    "Once you have an answer, run the code cell below."
   ]
  },
  {
   "cell_type": "code",
   "execution_count": 11,
   "id": "dc8ce5b7",
   "metadata": {
    "execution": {
     "iopub.execute_input": "2022-01-14T12:15:03.857687Z",
     "iopub.status.busy": "2022-01-14T12:15:03.856792Z",
     "iopub.status.idle": "2022-01-14T12:15:03.862063Z",
     "shell.execute_reply": "2022-01-14T12:15:03.861474Z",
     "shell.execute_reply.started": "2022-01-14T12:10:39.614762Z"
    },
    "papermill": {
     "duration": 0.035014,
     "end_time": "2022-01-14T12:15:03.862217",
     "exception": false,
     "start_time": "2022-01-14T12:15:03.827203",
     "status": "completed"
    },
    "tags": []
   },
   "outputs": [
    {
     "data": {
      "application/javascript": [
       "parent.postMessage({\"jupyterEvent\": \"custom.exercise_interaction\", \"data\": {\"outcomeType\": 1, \"valueTowardsCompletion\": 0.16666666666666666, \"interactionType\": 1, \"questionType\": 4, \"questionId\": \"4_DropMissingRows\", \"learnToolsVersion\": \"0.3.4\", \"failureMessage\": \"\", \"exceptionClass\": \"\", \"trace\": \"\"}}, \"*\")"
      ],
      "text/plain": [
       "<IPython.core.display.Javascript object>"
      ]
     },
     "metadata": {},
     "output_type": "display_data"
    },
    {
     "data": {
      "text/markdown": [
       "<span style=\"color:#33cc33\">Correct:</span> \n",
       "\n",
       "There are no rows remaining in the dataset!"
      ],
      "text/plain": [
       "Correct: \n",
       "\n",
       "There are no rows remaining in the dataset!"
      ]
     },
     "metadata": {},
     "output_type": "display_data"
    }
   ],
   "source": [
    "# Check your answer (Run this code cell to receive credit!)\n",
    "q4.check()"
   ]
  },
  {
   "cell_type": "code",
   "execution_count": 12,
   "id": "d86b09c3",
   "metadata": {
    "execution": {
     "iopub.execute_input": "2022-01-14T12:15:03.931939Z",
     "iopub.status.busy": "2022-01-14T12:15:03.931243Z",
     "iopub.status.idle": "2022-01-14T12:15:03.934345Z",
     "shell.execute_reply": "2022-01-14T12:15:03.933766Z",
     "shell.execute_reply.started": "2022-01-14T12:10:39.623362Z"
    },
    "papermill": {
     "duration": 0.04034,
     "end_time": "2022-01-14T12:15:03.934521",
     "exception": false,
     "start_time": "2022-01-14T12:15:03.894181",
     "status": "completed"
    },
    "tags": []
   },
   "outputs": [],
   "source": [
    "# Line below will give you a hint\n",
    "#q4.hint()"
   ]
  },
  {
   "cell_type": "markdown",
   "id": "ebd6c24a",
   "metadata": {
    "papermill": {
     "duration": 0.030737,
     "end_time": "2022-01-14T12:15:03.999599",
     "exception": false,
     "start_time": "2022-01-14T12:15:03.968862",
     "status": "completed"
    },
    "tags": []
   },
   "source": [
    "# 5) Drop missing values: columns\n",
    "\n",
    "Now try removing all the columns with empty values.  \n",
    "- Create a new DataFrame called `sf_permits_with_na_dropped` that has all of the columns with empty values removed.  \n",
    "- How many columns were removed from the original `sf_permits` DataFrame? Use this number to set the value of the `dropped_columns` variable below."
   ]
  },
  {
   "cell_type": "code",
   "execution_count": 13,
   "id": "4921e7f9",
   "metadata": {
    "execution": {
     "iopub.execute_input": "2022-01-14T12:15:04.064426Z",
     "iopub.status.busy": "2022-01-14T12:15:04.063846Z",
     "iopub.status.idle": "2022-01-14T12:15:04.622178Z",
     "shell.execute_reply": "2022-01-14T12:15:04.621601Z",
     "shell.execute_reply.started": "2022-01-14T12:10:39.633212Z"
    },
    "papermill": {
     "duration": 0.591648,
     "end_time": "2022-01-14T12:15:04.622356",
     "exception": false,
     "start_time": "2022-01-14T12:15:04.030708",
     "status": "completed"
    },
    "tags": []
   },
   "outputs": [
    {
     "data": {
      "application/javascript": [
       "parent.postMessage({\"jupyterEvent\": \"custom.exercise_interaction\", \"data\": {\"outcomeType\": 1, \"valueTowardsCompletion\": 0.16666666666666666, \"interactionType\": 1, \"questionType\": 1, \"questionId\": \"5_DropMissingCols\", \"learnToolsVersion\": \"0.3.4\", \"failureMessage\": \"\", \"exceptionClass\": \"\", \"trace\": \"\"}}, \"*\")"
      ],
      "text/plain": [
       "<IPython.core.display.Javascript object>"
      ]
     },
     "metadata": {},
     "output_type": "display_data"
    },
    {
     "data": {
      "text/markdown": [
       "<span style=\"color:#33cc33\">Correct</span>"
      ],
      "text/plain": [
       "Correct"
      ]
     },
     "metadata": {},
     "output_type": "display_data"
    }
   ],
   "source": [
    "# TODO: Your code here\n",
    "\n",
    "sf_permits_with_na_dropped = sf_permits.dropna(axis=1)\n",
    "\n",
    "dropped_columns = sf_permits.shape[1]-sf_permits_with_na_dropped.shape[1]\n",
    "\n",
    "# Check your answer\n",
    "q5.check()"
   ]
  },
  {
   "cell_type": "code",
   "execution_count": 14,
   "id": "6f95fbd7",
   "metadata": {
    "execution": {
     "iopub.execute_input": "2022-01-14T12:15:04.692023Z",
     "iopub.status.busy": "2022-01-14T12:15:04.691191Z",
     "iopub.status.idle": "2022-01-14T12:15:04.694076Z",
     "shell.execute_reply": "2022-01-14T12:15:04.694627Z",
     "shell.execute_reply.started": "2022-01-14T12:10:39.924831Z"
    },
    "papermill": {
     "duration": 0.040227,
     "end_time": "2022-01-14T12:15:04.694834",
     "exception": false,
     "start_time": "2022-01-14T12:15:04.654607",
     "status": "completed"
    },
    "tags": []
   },
   "outputs": [],
   "source": [
    "# Lines below will give you a hint or solution code\n",
    "#q5.hint()\n",
    "#q5.solution()"
   ]
  },
  {
   "cell_type": "markdown",
   "id": "9551fbc2",
   "metadata": {
    "papermill": {
     "duration": 0.031948,
     "end_time": "2022-01-14T12:15:04.759130",
     "exception": false,
     "start_time": "2022-01-14T12:15:04.727182",
     "status": "completed"
    },
    "tags": []
   },
   "source": [
    "# 6) Fill in missing values automatically\n",
    "\n",
    "Try replacing all the NaN's in the `sf_permits` data with the one that comes directly after it and then replacing any remaining NaN's with 0.  Set the result to a new DataFrame `sf_permits_with_na_imputed`."
   ]
  },
  {
   "cell_type": "code",
   "execution_count": 15,
   "id": "f7f95b28",
   "metadata": {
    "execution": {
     "iopub.execute_input": "2022-01-14T12:15:04.828156Z",
     "iopub.status.busy": "2022-01-14T12:15:04.827477Z",
     "iopub.status.idle": "2022-01-14T12:15:05.498273Z",
     "shell.execute_reply": "2022-01-14T12:15:05.497615Z",
     "shell.execute_reply.started": "2022-01-14T12:10:39.930002Z"
    },
    "papermill": {
     "duration": 0.706652,
     "end_time": "2022-01-14T12:15:05.498430",
     "exception": false,
     "start_time": "2022-01-14T12:15:04.791778",
     "status": "completed"
    },
    "tags": []
   },
   "outputs": [
    {
     "data": {
      "application/javascript": [
       "parent.postMessage({\"jupyterEvent\": \"custom.exercise_interaction\", \"data\": {\"outcomeType\": 1, \"valueTowardsCompletion\": 0.16666666666666666, \"interactionType\": 1, \"questionType\": 1, \"questionId\": \"6_ImputeAutomatically\", \"learnToolsVersion\": \"0.3.4\", \"failureMessage\": \"\", \"exceptionClass\": \"\", \"trace\": \"\"}}, \"*\")"
      ],
      "text/plain": [
       "<IPython.core.display.Javascript object>"
      ]
     },
     "metadata": {},
     "output_type": "display_data"
    },
    {
     "data": {
      "text/markdown": [
       "<span style=\"color:#33cc33\">Correct</span>"
      ],
      "text/plain": [
       "Correct"
      ]
     },
     "metadata": {},
     "output_type": "display_data"
    }
   ],
   "source": [
    "# TODO: Your code here\n",
    "sf_permits_with_na_imputed = sf_permits.fillna(method='bfill',axis=0).fillna(0)\n",
    "\n",
    "# Check your answer\n",
    "q6.check()"
   ]
  },
  {
   "cell_type": "code",
   "execution_count": 16,
   "id": "48cd758a",
   "metadata": {
    "execution": {
     "iopub.execute_input": "2022-01-14T12:15:05.570650Z",
     "iopub.status.busy": "2022-01-14T12:15:05.569985Z",
     "iopub.status.idle": "2022-01-14T12:15:05.572097Z",
     "shell.execute_reply": "2022-01-14T12:15:05.572613Z",
     "shell.execute_reply.started": "2022-01-14T12:10:41.009226Z"
    },
    "papermill": {
     "duration": 0.041629,
     "end_time": "2022-01-14T12:15:05.572789",
     "exception": false,
     "start_time": "2022-01-14T12:15:05.531160",
     "status": "completed"
    },
    "tags": []
   },
   "outputs": [],
   "source": [
    "# Lines below will give you a hint or solution code\n",
    "#q6.hint()\n",
    "#q6.solution()"
   ]
  },
  {
   "cell_type": "markdown",
   "id": "0b1f656e",
   "metadata": {
    "papermill": {
     "duration": 0.032513,
     "end_time": "2022-01-14T12:15:05.638786",
     "exception": false,
     "start_time": "2022-01-14T12:15:05.606273",
     "status": "completed"
    },
    "tags": []
   },
   "source": [
    "# More practice\n",
    "\n",
    "If you're looking for more practice handling missing values:\n",
    "\n",
    "* Check out [this noteboook](https://www.kaggle.com/alexisbcook/missing-values) on handling missing values using scikit-learn's imputer. \n",
    "* Look back at the \"Zipcode\" column in the `sf_permits` dataset, which has some missing values. How would you go about figuring out what the actual zipcode of each address should be? (You might try using another dataset. You can search for datasets about San Fransisco on the [Datasets listing](https://www.kaggle.com/datasets).) \n",
    "\n",
    "# Keep going\n",
    "\n",
    "In the next lesson, learn how to [**apply scaling and normalization**](https://www.kaggle.com/alexisbcook/scaling-and-normalization) to transform your data."
   ]
  },
  {
   "cell_type": "markdown",
   "id": "928d7f4d",
   "metadata": {
    "papermill": {
     "duration": 0.032462,
     "end_time": "2022-01-14T12:15:05.703400",
     "exception": false,
     "start_time": "2022-01-14T12:15:05.670938",
     "status": "completed"
    },
    "tags": []
   },
   "source": [
    "---\n",
    "\n",
    "\n",
    "\n",
    "\n",
    "*Have questions or comments? Visit the [course discussion forum](https://www.kaggle.com/learn/data-cleaning/discussion) to chat with other learners.*"
   ]
  }
 ],
 "metadata": {
  "kernelspec": {
   "display_name": "Python 3",
   "language": "python",
   "name": "python3"
  },
  "language_info": {
   "codemirror_mode": {
    "name": "ipython",
    "version": 3
   },
   "file_extension": ".py",
   "mimetype": "text/x-python",
   "name": "python",
   "nbconvert_exporter": "python",
   "pygments_lexer": "ipython3",
   "version": "3.7.12"
  },
  "papermill": {
   "default_parameters": {},
   "duration": 23.690426,
   "end_time": "2022-01-14T12:15:06.548533",
   "environment_variables": {},
   "exception": null,
   "input_path": "__notebook__.ipynb",
   "output_path": "__notebook__.ipynb",
   "parameters": {},
   "start_time": "2022-01-14T12:14:42.858107",
   "version": "2.3.3"
  }
 },
 "nbformat": 4,
 "nbformat_minor": 5
}
